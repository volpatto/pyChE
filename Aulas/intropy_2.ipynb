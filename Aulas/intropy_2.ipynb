{
 "cells": [
  {
   "cell_type": "markdown",
   "metadata": {},
   "source": [
    "# Introdução à Linguagem Python -  Parte 2\n",
    "\n",
    "Vamos então continuar nossos trabalhos?! Agora que a vem a parte boa! Já falei das principais estruturas que serão utilizadas! Porém, ademais, muito embora, eu acabei esquecendo de algo básico! Vou suprir agora o esquecimento.\n",
    "\n",
    "## Operações Matemáticas Esquecidas\n",
    "\n",
    "Bom... o nome da seção fala por si só."
   ]
  },
  {
   "cell_type": "code",
   "execution_count": 1,
   "metadata": {
    "collapsed": false
   },
   "outputs": [
    {
     "name": "stdout",
     "output_type": "stream",
     "text": [
      "Potenciação 1\n",
      "c =  8.0\n",
      "\n",
      "Potenciação 2\n",
      "a =  200.0 \n",
      "b =  589760.0\n",
      "\n",
      "Raíz quadrada\n",
      "a =  2.0\n",
      "\n",
      "Exponencial\n",
      "a =  7.38905609893\n"
     ]
    }
   ],
   "source": [
    "# Potenciação/exponenciação\n",
    "print \"Potenciação 1\"\n",
    "a = 2.\n",
    "b = 3.\n",
    "c = a**b\n",
    "print \"c = \", c\n",
    "\n",
    "# Explicitando o float\n",
    "print \"\\nPotenciação 2\"    # \\n é um caractere que fornece uma nova linha na saída\n",
    "a = 2.0e2\n",
    "b = 5.8976e5\n",
    "print \"a = \", a, \"\\n\", \"b = \", b\n",
    "\n",
    "#Raíz quadrada\n",
    "print \"\\nRaíz quadrada\"\n",
    "import math    # É assim que importamos uma biblioteca em Python\n",
    "a = math.sqrt(4.)\n",
    "print \"a = \", a\n",
    "\n",
    "# Exponencial\n",
    "print \"\\nExponencial\"\n",
    "a = math.exp(2.)\n",
    "print \"a = \", a"
   ]
  },
  {
   "cell_type": "markdown",
   "metadata": {},
   "source": [
    "É digno de nota a utilização da biblioteca math, que é uma biblioteca nativa do Python. Mais na frente, vamos abandonar essa pobre coitada por motivos de vetorização (sim, a vida é dura) e adotaremos suas rotinas equivalentes no NumPy! Porém, se deseja saber quais funções essa biblioteca oferece, dê uma olhada na sua documentação, que está neste link aqui: https://docs.python.org/2/library/math.html. Agora vamos falar de alguns tipos mais interessantes do Python: Coleção de Objetos!"
   ]
  },
  {
   "cell_type": "markdown",
   "metadata": {},
   "source": [
    "## Tuplas\n",
    "\n",
    "Esse é um tipo difícil, daqueles que não mudam de jeito nenhum! Ele é uma coleção de objetos, ou seja, pode ter vários tipos dentro dele - na verdade qualquer um -, mas com a condição de não ser possível alterá-lo! Bom, vejamos!"
   ]
  },
  {
   "cell_type": "code",
   "execution_count": 2,
   "metadata": {
    "collapsed": false
   },
   "outputs": [
    {
     "name": "stdout",
     "output_type": "stream",
     "text": [
      "Tupla 1\n",
      "<type 'tuple'>\n",
      "\n",
      "Tupla 2\n",
      "1\n",
      "dois\n",
      "3.0\n",
      "True\n",
      "\n",
      "Tupla 3\n",
      "<type 'int'>\n",
      "<type 'str'>\n",
      "<type 'float'>\n",
      "<type 'bool'>\n",
      "\n",
      "Tupla 4\n"
     ]
    },
    {
     "ename": "TypeError",
     "evalue": "'tuple' object does not support item assignment",
     "output_type": "error",
     "traceback": [
      "\u001b[1;31m---------------------------------------------------------------------------\u001b[0m",
      "\u001b[1;31mTypeError\u001b[0m                                 Traceback (most recent call last)",
      "\u001b[1;32m<ipython-input-2-4d470c0b0214>\u001b[0m in \u001b[0;36m<module>\u001b[1;34m()\u001b[0m\n\u001b[0;32m     20\u001b[0m \u001b[1;31m# Tentando alterar uma tupla\u001b[0m\u001b[1;33m\u001b[0m\u001b[1;33m\u001b[0m\u001b[0m\n\u001b[0;32m     21\u001b[0m \u001b[1;32mprint\u001b[0m \u001b[1;34m\"\\nTupla 4\"\u001b[0m\u001b[1;33m\u001b[0m\u001b[0m\n\u001b[1;32m---> 22\u001b[1;33m \u001b[0mtupla1\u001b[0m\u001b[1;33m[\u001b[0m\u001b[1;36m1\u001b[0m\u001b[1;33m]\u001b[0m \u001b[1;33m=\u001b[0m \u001b[1;36m2\u001b[0m\u001b[1;33m\u001b[0m\u001b[0m\n\u001b[0m",
      "\u001b[1;31mTypeError\u001b[0m: 'tuple' object does not support item assignment"
     ]
    }
   ],
   "source": [
    "#Tuplas\n",
    "print \"Tupla 1\"\n",
    "tupla1 = (1,\"dois\", 3.0, True)\n",
    "print type(tupla1)\n",
    "\n",
    "# Acessando um objeto\n",
    "print \"\\nTupla 2\"\n",
    "print tupla1[0]    # Para acessar, utilizamos nome_tupla[i]. Observe que i começa em 0.\n",
    "print tupla1[1]\n",
    "print tupla1[2]\n",
    "print tupla1[3]\n",
    "\n",
    "# Checando os tipos\n",
    "print \"\\nTupla 3\"\n",
    "print type(tupla1[0])\n",
    "print type(tupla1[1])\n",
    "print type(tupla1[2])\n",
    "print type(tupla1[3])\n",
    "\n",
    "# Tentando alterar uma tupla\n",
    "print \"\\nTupla 4\"\n",
    "tupla1[1] = 2"
   ]
  },
  {
   "cell_type": "markdown",
   "metadata": {},
   "source": [
    "Opa! Essa brincadeira é mais legal! Mas pode ficar mais ousada ainda! O conceito de tupla já é algo bem intuitivo para a maioria das pessoas de exatas. Sim, vetores e matrizes! E isso quer dizer que podemos ter tuplas dentro de tuplas infinitamente! Vamos testar?!"
   ]
  },
  {
   "cell_type": "code",
   "execution_count": 3,
   "metadata": {
    "collapsed": false
   },
   "outputs": [
    {
     "name": "stdout",
     "output_type": "stream",
     "text": [
      "Tupla in tupla 1\n",
      "(4, 'cinco', (1.0, 'dois', 3.0, True), 6.0)\n",
      "\n",
      "Tupla in tupla 2\n",
      "b =  1.0\n",
      "c =  2.0\n"
     ]
    }
   ],
   "source": [
    "# Tupla na tupla\n",
    "print \"Tupla in tupla 1\"\n",
    "a = 3.\n",
    "tupla1 = (1., 'dois', a, True)   # Veja que incluí uma variável já declarada dentro da tupla\n",
    "tupla2 = (4, 'cinco', tupla1, 6.)\n",
    "print tupla2\n",
    "\n",
    "# Acessando um elemento dentro da tupla da tupla!\n",
    "print \"\\nTupla in tupla 2\"\n",
    "b = tupla2[2][0]\n",
    "print \"b = \", b\n",
    "c = tupla2[2][0] + tupla1[0] # Se os objetos forem de tipos compatíveis, podemos operá-los. Coerção tbm vale!\n",
    "print \"c = \", c"
   ]
  },
  {
   "cell_type": "raw",
   "metadata": {},
   "source": [
    "Como podemos ler esses índices?! Bom, vamos lá! Em tupla2[2][0], estamos acessando o primeiro objeto, isto é, [0], do objeto terceiro objeto, isto é, [2], da tupla2. É o mesmo pensamento de uma matriz! Enfim, não vamos nos demorar muito em Tuplas, já que não são muito interessantes na maioria dos problemas numéricos. Bola pra frente!"
   ]
  },
  {
   "cell_type": "markdown",
   "metadata": {},
   "source": [
    "## Listas\n",
    "\n",
    "Esse sujeito aqui já é mais melhor de bom! Ele é o equivalente a vetores e matrizes nas outras linguagens de programação. Diferentemente das Tuplas, as Listas são mutáveis! Podemos atribuir um novo objeto a uma posição da Lista quando desejarmos. Além disso, ele possui todas as outras propriedades já exemplificadas das Tuplas! Isto torna esta coleção de objetos algo bem interessante para nós! Vamos checar! "
   ]
  },
  {
   "cell_type": "code",
   "execution_count": 4,
   "metadata": {
    "collapsed": false
   },
   "outputs": [
    {
     "name": "stdout",
     "output_type": "stream",
     "text": [
      "Listas 1\n",
      "<type 'list'>\n",
      "[1, 'dois', 3.0, True]\n",
      "\n",
      "Listas 2\n",
      "[1, 'dois', 3.0, False]\n",
      "\n",
      "Listas 3\n",
      "['opa', 1.0, [1, 'dois', 3.0, False], [1.0, 2.0, 3.0, [1, 'dois', 3.0, False]]]\n",
      "\n",
      "Listas 4\n",
      "1\n",
      "dois\n"
     ]
    }
   ],
   "source": [
    "# Criando uma Lista\n",
    "print \"Listas 1\"\n",
    "lista1 = [1, 'dois', 3., True]\n",
    "print type(lista1)\n",
    "print lista1\n",
    "\n",
    "# Alterando um valor\n",
    "print \"\\nListas 2\"\n",
    "lista1[3] = False\n",
    "print lista1\n",
    "\n",
    "# Lista dentro de lista\n",
    "print \"\\nListas 3\"\n",
    "lista3 = ['opa', 1., lista1, [1., 2., 3., lista1]] # Observe que declarei uma lista diretamente: [1., 2., 3., lista1]\n",
    "print lista3\n",
    "\n",
    "# Acessando objetos de objetos\n",
    "print \"\\nListas 4\"\n",
    "print lista3[2][0]   # Objeto 1 - [0] - do objeto 3 - [2] - de lista3\n",
    "print lista3[3][3][1] # Objeto 2 do objeto 4 do objeto 4 de lista3"
   ]
  },
  {
   "cell_type": "markdown",
   "metadata": {},
   "source": [
    "Bem interessante, né?! Podemos fazer coisas ainda mais legais! Imagine que desejamos adicionar ou remover objetos em uma lista. Para isso, vamos precisar dos métodos disponível para o tipo Lista na linguagem Python! Vejamos eles de forma prática."
   ]
  },
  {
   "cell_type": "code",
   "execution_count": 5,
   "metadata": {
    "collapsed": false
   },
   "outputs": [
    {
     "name": "stdout",
     "output_type": "stream",
     "text": [
      "add/remove 1\n",
      "[1.0, 'dois', 3, True, 5]\n",
      "\n",
      "add/remove 2\n",
      "[1.0, 'dois', 3, True, 5, 6.0, 'sete', 8]\n",
      "\n",
      "add/remove 3\n",
      "[1.0, 'dois', 3, 5, 6.0, 'sete', 8]\n",
      "\n",
      "add/remove 4\n",
      "[1.0, 'dois', 3, 5, 6.0, 8]\n",
      "\n",
      "add/remove 5\n",
      "['dois', 3, 5, 6.0, 8]\n",
      "\n",
      "add/remove 6\n",
      "['dois', 8]\n",
      "\n",
      "Extra! Extra!\n",
      "2\n"
     ]
    }
   ],
   "source": [
    "# Adicionando objetos: Método append()\n",
    "print \"add/remove 1\"\n",
    "lista1 = [1., 'dois', 3, True]\n",
    "lista1.append(5)    # Adicionando o objeto 5 ao final da lista1\n",
    "print lista1\n",
    "\n",
    "# Juntando duas listas: Método extend()\n",
    "print \"\\nadd/remove 2\"\n",
    "lista2 = [6., 'sete', 8]\n",
    "lista1.extend(lista2)    # Adicionando a lista2 ao final da lista1\n",
    "print lista1\n",
    "\n",
    "# Removendo objetos: Método pop()\n",
    "print \"\\nadd/remove 3\"\n",
    "lista1.pop(3)    # Retirando o quarto objeto da lista1\n",
    "print lista1\n",
    "\n",
    "# Removendo objetos: Método remove()\n",
    "print \"\\nadd/remove 4\"\n",
    "lista1.remove('sete')    # Busca o objeto 'sete' na lista1 e o remove da lista\n",
    "print lista1\n",
    "\n",
    "# Removendo objetos: Operador del\n",
    "print \"\\nadd/remove 5\"\n",
    "del lista1[0]    # Deleta o primeiro objeto na lista1\n",
    "print lista1\n",
    "\n",
    "# Removendo objetos usando slicing e o operador del\n",
    "print \"\\nadd/remove 6\"\n",
    "del lista1[1:4]    # Remove do objeto 2 até o objeto 5, não contendo esse último, da lista1\n",
    "print lista1\n",
    "\n",
    "# Extra: tamanho de uma lista\n",
    "print \"\\nExtra! Extra!\"\n",
    "tam_lista1 = len(lista1)\n",
    "print tam_lista1"
   ]
  },
  {
   "cell_type": "markdown",
   "metadata": {},
   "source": [
    "Certo! Vimos os métodos principais de Listas, eu diria! Sobre o slicing, às vezes pode parecer meio confuso... vou tentar falar melhor. Quando eu digo lista[1:5], isso significa que eu estou me referindo aos objetos em sequência entre esses índices, mas sem conter o último índice. Ou seja, $\\texttt{lista[a:b]} = \\texttt{lista[a]} \\leq \\texttt{lista[i]} \\lt \\texttt{lista[b]},\\, i = a,\\ldots,b-1$, sendo $\\texttt{lista[i]}$ o resultado do slicing. Este conceito vai ficar mais claro com práticas mais na frente, então relaxe! Agora vamos continuar com as coleções!"
   ]
  },
  {
   "cell_type": "markdown",
   "metadata": {},
   "source": [
    "## Strings\n",
    "\n",
    "Demorou mas chegou! Vou falar agora das conhecidas cadeias de caracteres, as ditas Strings. Este tipo é semelhante às coleções mostradas, porém é imutável - assim como as tuplas - e só permite um tipo de objeto, que são os caracteres. Vamos ver?!"
   ]
  },
  {
   "cell_type": "code",
   "execution_count": 6,
   "metadata": {
    "collapsed": false
   },
   "outputs": [
    {
     "name": "stdout",
     "output_type": "stream",
     "text": [
      "String 1\n",
      "Testando\n",
      "<type 'str'>\n",
      "e\n",
      "<type 'str'>\n"
     ]
    },
    {
     "ename": "TypeError",
     "evalue": "'str' object does not support item assignment",
     "output_type": "error",
     "traceback": [
      "\u001b[1;31m---------------------------------------------------------------------------\u001b[0m",
      "\u001b[1;31mTypeError\u001b[0m                                 Traceback (most recent call last)",
      "\u001b[1;32m<ipython-input-6-7ebabc5056a2>\u001b[0m in \u001b[0;36m<module>\u001b[1;34m()\u001b[0m\n\u001b[0;32m      6\u001b[0m \u001b[1;32mprint\u001b[0m \u001b[0mstring1\u001b[0m\u001b[1;33m[\u001b[0m\u001b[1;36m1\u001b[0m\u001b[1;33m]\u001b[0m    \u001b[1;31m# Imprimindo o segundo caractere da string1\u001b[0m\u001b[1;33m\u001b[0m\u001b[0m\n\u001b[0;32m      7\u001b[0m \u001b[1;32mprint\u001b[0m \u001b[0mtype\u001b[0m\u001b[1;33m(\u001b[0m\u001b[0mstring1\u001b[0m\u001b[1;33m[\u001b[0m\u001b[1;36m1\u001b[0m\u001b[1;33m]\u001b[0m\u001b[1;33m)\u001b[0m    \u001b[1;31m# Não existe Char em Python\u001b[0m\u001b[1;33m\u001b[0m\u001b[0m\n\u001b[1;32m----> 8\u001b[1;33m \u001b[0mstring1\u001b[0m\u001b[1;33m[\u001b[0m\u001b[1;36m1\u001b[0m\u001b[1;33m]\u001b[0m \u001b[1;33m=\u001b[0m \u001b[1;34m'E'\u001b[0m\u001b[1;33m\u001b[0m\u001b[0m\n\u001b[0m",
      "\u001b[1;31mTypeError\u001b[0m: 'str' object does not support item assignment"
     ]
    }
   ],
   "source": [
    "# Criando uma string\n",
    "print \"String 1\"\n",
    "string1 = 'Testando'    # Podemos escrever a string entre \" \" tbm. Dá no mesmo em Python.\n",
    "print string1\n",
    "print type(string1)\n",
    "print string1[1]    # Imprimindo o segundo caractere da string1\n",
    "print type(string1[1])    # Não existe Char em Python\n",
    "string1[1] = 'E'"
   ]
  },
  {
   "cell_type": "markdown",
   "metadata": {},
   "source": [
    "Observe que não existe o tipo Char, ou caractere, em Python. É apenas uma String com uma letra. Os slicing também podem ser utilizados em Strings!"
   ]
  },
  {
   "cell_type": "code",
   "execution_count": 7,
   "metadata": {
    "collapsed": false
   },
   "outputs": [
    {
     "name": "stdout",
     "output_type": "stream",
     "text": [
      "est\n"
     ]
    }
   ],
   "source": [
    "# Slicing em Strings\n",
    "string1 = \"Teste\"\n",
    "print string1[1:4]"
   ]
  },
  {
   "cell_type": "markdown",
   "metadata": {},
   "source": [
    "Para nossos propósitos, está suficiente estas informações sobre Strings! Vida que segue..."
   ]
  },
  {
   "cell_type": "markdown",
   "metadata": {},
   "source": [
    "## Dicionários\n",
    "\n",
    "Vou falar de dicionários apenas para cumprir tabela. Até hoje, em aplicações científicas, de cálculos e etc, nunca utilizei essa coleção de objeto. Mas em várias construções de sistemas em Python ela pode ser importante! Por exemplo, em um programa desktop feito em Python, eu me utilizei de tal tipo. Vou mostrar rapidamente!"
   ]
  },
  {
   "cell_type": "code",
   "execution_count": 8,
   "metadata": {
    "collapsed": false
   },
   "outputs": [
    {
     "name": "stdout",
     "output_type": "stream",
     "text": [
      "Dict 1\n",
      "{}\n",
      "{1: 'dois', 'tres': 4}\n"
     ]
    }
   ],
   "source": [
    "# Criando um dict\n",
    "print \"Dict 1\"\n",
    "dict1 = dict()\n",
    "print dict1\n",
    "dict1[1] = 'dois'\n",
    "dict1['tres'] = 4\n",
    "print dict1"
   ]
  },
  {
   "cell_type": "markdown",
   "metadata": {},
   "source": [
    "Está é uma coleção é bem interessante! Ela é muito semelhante a uma lista, porém é mais geral, pois as listas só aceitam índices inteiros, e os dicionários aceitam qualquer tipo. Tecnicamente, é uma estrutura conhecida como $\\textbf{tabela hash}$. Vamos considerar a primeira associação no dicionário que criamos acima: 1: 'dois'. O 1 é chamado de $\\textbf{key}$ e o 'dois' é chamado de $\\textbf{key-valeu}$ ou $\\textbf{item}$. Os keys são os novos índices, e os key-values são os valores associados às chaves. Mas vamos ficar por aqui! Se tiver interesse em conhecer mais sobre Dicionários, recomendo o capítulo 11 de http://greenteapress.com/thinkpython/thinkpython.pdf, que é um texto gratuito e excelente publicado por almas generosas das \"internetes\". Na real, o livro inteiro é MUITO BOM! Bom mesmo! Já disse que é muito bom?!"
   ]
  },
  {
   "cell_type": "markdown",
   "metadata": {},
   "source": [
    "## Funções\n",
    "\n",
    "Eita! Agora sim! Algo para dar aquela emoção e palpitação no coração! Funções serão muito importantes para nós. Em Python, é pateticamente fácil de utilizar. Não tem essa parada de ponteiro de ponteiro de ponteiro de zzzzzzzZZZZZZZZZZzz de ponteiro, retorno de não sei o que lá, etc etc; embora gostaria de lembrá-los que, por trás do Python, está aquele C velho de guerra. Mas isso é outra conversa das trevas. Vamos ao que interessa!"
   ]
  },
  {
   "cell_type": "code",
   "execution_count": 9,
   "metadata": {
    "collapsed": false
   },
   "outputs": [
    {
     "name": "stdout",
     "output_type": "stream",
     "text": [
      "2\n"
     ]
    }
   ],
   "source": [
    "# Definindo uma função\n",
    "def f(x):\n",
    "    return x\n",
    "\n",
    "print f(2)"
   ]
  },
  {
   "cell_type": "markdown",
   "metadata": {},
   "source": [
    "Bem difícil, #sqn! Mas calma, se quiser, podemos botar areia facilmente no esquema. Dentro de uma função, pode haver trecho de códigos, alguns podem ser bem extensos, alguns podem ser quase um programa por si só. E podem ter bibliotecas importadas dentro, variáveis dentro apenas do escopo da função... enfim! Primeiro, vou ensinar uma boa prática de programação que pode SALVAR a pele de vocês caso trabalhem com códigos bem complexos e grandes, cheio de funções. Descreva sua função! Faça assim:"
   ]
  },
  {
   "cell_type": "code",
   "execution_count": 10,
   "metadata": {
    "collapsed": true
   },
   "outputs": [],
   "source": [
    "# Definindo uma função educadamente\n",
    "def f(x):\n",
    "    '''\n",
    "    A função f recebe x como argumento e retorna o valor de x.\n",
    "    '''\n",
    "    return x"
   ]
  },
  {
   "cell_type": "markdown",
   "metadata": {},
   "source": [
    "A galera da computação costuma chamar essa descrição de $\\textbf{docstring}$. Recomendo fortemente!\n",
    "\n",
    "Continuando, vamos botar uma areia de leve."
   ]
  },
  {
   "cell_type": "code",
   "execution_count": 13,
   "metadata": {
    "collapsed": false
   },
   "outputs": [
    {
     "name": "stdout",
     "output_type": "stream",
     "text": [
      "8.0\n"
     ]
    },
    {
     "ename": "NameError",
     "evalue": "name 'two' is not defined",
     "output_type": "error",
     "traceback": [
      "\u001b[1;31m---------------------------------------------------------------------------\u001b[0m",
      "\u001b[1;31mNameError\u001b[0m                                 Traceback (most recent call last)",
      "\u001b[1;32m<ipython-input-13-500bdcf4612a>\u001b[0m in \u001b[0;36m<module>\u001b[1;34m()\u001b[0m\n\u001b[0;32m      8\u001b[0m \u001b[1;33m\u001b[0m\u001b[0m\n\u001b[0;32m      9\u001b[0m \u001b[1;32mprint\u001b[0m \u001b[0mtwopow\u001b[0m\u001b[1;33m(\u001b[0m\u001b[1;36m3\u001b[0m\u001b[1;33m)\u001b[0m\u001b[1;33m\u001b[0m\u001b[0m\n\u001b[1;32m---> 10\u001b[1;33m \u001b[1;32mprint\u001b[0m \u001b[0mtwo\u001b[0m    \u001b[1;31m# Não vai dar certo, pois two só existe internamente à função twopow(x).\u001b[0m\u001b[1;33m\u001b[0m\u001b[0m\n\u001b[0m",
      "\u001b[1;31mNameError\u001b[0m: name 'two' is not defined"
     ]
    }
   ],
   "source": [
    "# Caso 1\n",
    "def twopow(x):\n",
    "    '''\n",
    "    A função twopow recebe como argumento x e retorna o valor de 2 elevado a x.\n",
    "    '''\n",
    "    two = 2.\n",
    "    return two**x\n",
    "\n",
    "print twopow(3)\n",
    "print two    # Não vai dar certo, pois two só existe internamente à função twopow(x)."
   ]
  },
  {
   "cell_type": "code",
   "execution_count": 14,
   "metadata": {
    "collapsed": false
   },
   "outputs": [
    {
     "name": "stdout",
     "output_type": "stream",
     "text": [
      "18.0\n"
     ]
    }
   ],
   "source": [
    "# Caso 2\n",
    "def pol(a,b,c,x):\n",
    "    '''\n",
    "    Tem como entrada os parâmetros de um polinômio de segundo grau e o valor da variável.\n",
    "    Retorna o resultado do polinômio.\n",
    "    '''\n",
    "    return a + b*x + c*x**2.\n",
    "\n",
    "print pol(-2.,1.,1.,4)"
   ]
  },
  {
   "cell_type": "markdown",
   "metadata": {},
   "source": [
    "Chamar função dentro de função, rola? Pode sim!"
   ]
  },
  {
   "cell_type": "code",
   "execution_count": 15,
   "metadata": {
    "collapsed": false
   },
   "outputs": [
    {
     "name": "stdout",
     "output_type": "stream",
     "text": [
      "18.0\n"
     ]
    }
   ],
   "source": [
    "def twopow(x):\n",
    "    '''\n",
    "    A função twopow recebe como argumento x e retorna o valor de 2 elevado a x.\n",
    "    '''\n",
    "    two = 2.\n",
    "    return two**x\n",
    "\n",
    "def pol(a,b,c,x):\n",
    "    '''\n",
    "    Tem como entrada os parâmetros de um polinômio de segundo grau e o valor da variável.\n",
    "    O parâmetro de entrada c será o utilizado como expoente da potência em 2.\n",
    "    Retorna o resultado do polinômio.\n",
    "    '''\n",
    "    return a + b*x + twopow(c)*x**2.\n",
    "\n",
    "print pol(-2.,1.,0.,4)"
   ]
  },
  {
   "cell_type": "markdown",
   "metadata": {},
   "source": [
    "Interesting, eh?! Por último, para explorar o fato que podemos ter trechos de código dentro das funções, vamos considerar o CLÁSSICO exemplo da função fatorial."
   ]
  },
  {
   "cell_type": "code",
   "execution_count": 16,
   "metadata": {
    "collapsed": false
   },
   "outputs": [
    {
     "name": "stdout",
     "output_type": "stream",
     "text": [
      "24.0\n"
     ]
    }
   ],
   "source": [
    "# Caso Fatorial\n",
    "def fatorial(x):\n",
    "    '''\n",
    "    A função fatorial recebe como argumento x e retorna o valor de x fatorial.\n",
    "    '''\n",
    "    fat = 1.\n",
    "    for i in range(1,x+1):\n",
    "        fat = fat*(i)\n",
    "    \n",
    "    return fat\n",
    "\n",
    "print fatorial(4)"
   ]
  },
  {
   "cell_type": "markdown",
   "metadata": {},
   "source": [
    "Tudo muito legal, né?! Creio que o basicão esteja passado! Na próxima vez, vamos começar a brincadeira com o NumPy/SciPy! Espero que não tenha sido chato!\n",
    "\n",
    "Aquele abraço!"
   ]
  }
 ],
 "metadata": {
  "kernelspec": {
   "display_name": "Python 2",
   "language": "python",
   "name": "python2"
  },
  "language_info": {
   "codemirror_mode": {
    "name": "ipython",
    "version": 2
   },
   "file_extension": ".py",
   "mimetype": "text/x-python",
   "name": "python",
   "nbconvert_exporter": "python",
   "pygments_lexer": "ipython2",
   "version": "2.7.6"
  }
 },
 "nbformat": 4,
 "nbformat_minor": 0
}
