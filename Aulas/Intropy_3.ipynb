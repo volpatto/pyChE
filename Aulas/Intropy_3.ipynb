{
 "cells": [
  {
   "cell_type": "markdown",
   "metadata": {},
   "source": [
    "# Introdução à Linguagem Python - Parte 3\n",
    "\n",
    "Chegamos ao episódio 3! Veremos, agora, umas pequenas pendências CLÁSSICAS!"
   ]
  },
  {
   "cell_type": "markdown",
   "metadata": {},
   "source": [
    "## Classes\n",
    "\n",
    "Sim, Python é uma linguagem de muita classe! Na verdade, tudo em Python são objetos - mutáveis ou imutáveis. E aqui veremos brevemente sobre classes, mas não será algo que utilizaremos com frequência.\n",
    "\n",
    "A definição geral abaixo é retirada do Python Para Desenvolvedores, 2ª edição."
   ]
  },
  {
   "cell_type": "code",
   "execution_count": null,
   "metadata": {
    "collapsed": true
   },
   "outputs": [],
   "source": [
    "class Classe(supcl1, supcl2):\n",
    "    \"\"\"\n",
    "    Isto é uma classe\n",
    "    \"\"\"\n",
    "    clsvar = []\n",
    "    \n",
    "    def __init__(self, args):\n",
    "        \"\"\"\n",
    "        Inicializador da classe\n",
    "        \"\"\"\n",
    "        <bloco de código>\n",
    "    \n",
    "    def __done__(self):\n",
    "        \"\"\"\n",
    "        Destrutor da classe\n",
    "        \"\"\"\n",
    "        <bloco de código>\n",
    "    \n",
    "    def metodo(self, params):\n",
    "        \"\"\"\n",
    "        Método de objeto\n",
    "        \"\"\"\n",
    "        <bloco de código>\n",
    "    \n",
    "    @classmethod\n",
    "    def cls_metodo(cls, params):\n",
    "        \"\"\"\n",
    "        Método de classe\n",
    "        \"\"\"\n",
    "        <bloco de código>\n",
    "\n",
    "    @staticmethod\n",
    "    def est_metodo(params):\n",
    "        \"\"\"\n",
    "        Método estático\n",
    "        \"\"\"\n",
    "        <bloco de código>\n",
    "\n",
    "obj = Classe()\n",
    "obj.metodo()\n",
    "Classe.cls_metodo()\n",
    "Classe.est_metodo()"
   ]
  },
  {
   "cell_type": "markdown",
   "metadata": {},
   "source": [
    " Vamos fazer um exemplo clássico, literalmente! Vamos trabalhar com um ponto em um plano cartesiano."
   ]
  },
  {
   "cell_type": "code",
   "execution_count": 13,
   "metadata": {
    "collapsed": false
   },
   "outputs": [
    {
     "name": "stdout",
     "output_type": "stream",
     "text": [
      "3.60555127546\n"
     ]
    }
   ],
   "source": [
    "class Ponto:\n",
    "    '''\n",
    "    Classe de um ponto em um plano cartesiano.\n",
    "    '''\n",
    "    \n",
    "    def __init__(self,xpos=0.0,ypos=0.0):\n",
    "        '''\n",
    "        Inicializa o ponto\n",
    "        '''\n",
    "        self.xpos = xpos\n",
    "        self.ypos = ypos\n",
    "        \n",
    "    def odist(self):\n",
    "        '''\n",
    "        Calcula a distância do ponto em relação à origem\n",
    "        '''\n",
    "        from math import sqrt\n",
    "        return sqrt(self.xpos**2.0 + self.ypos**2.0)\n",
    "        del srqt\n",
    "    \n",
    "ponto1 = Ponto()\n",
    "ponto1.xpos = 2.0\n",
    "ponto1.ypos = 3.0\n",
    "print ponto1.odist()\n",
    "        "
   ]
  },
  {
   "cell_type": "markdown",
   "metadata": {},
   "source": [
    "O método $\\textbf{odist}$ é simplesmente algo que um objeto da classe Ponto pode fazer.\n",
    "Devido à natureza dinâmica da linguagem, podemos acrescentar um método em uma classe já existente, assim como excluir um método. Vejamos..."
   ]
  },
  {
   "cell_type": "code",
   "execution_count": 25,
   "metadata": {
    "collapsed": false
   },
   "outputs": [
    {
     "name": "stdout",
     "output_type": "stream",
     "text": [
      "6.0\n",
      "['__doc__', '__init__', '__module__', 'area', 'odist', 'q_area', 'xpos', 'ypos']\n",
      "['__doc__', '__init__', '__module__', 'area', 'odist', 'xpos', 'ypos']\n"
     ]
    }
   ],
   "source": [
    "class Ponto:\n",
    "    '''\n",
    "    Classe de um ponto em um plano cartesiano.\n",
    "    '''\n",
    "    \n",
    "    def __init__(self,xpos=0.0,ypos=0.0):\n",
    "        '''\n",
    "        Inicializa o ponto\n",
    "        '''\n",
    "        self.xpos = xpos\n",
    "        self.ypos = ypos\n",
    "        \n",
    "    def odist(self):\n",
    "        '''\n",
    "        Calcula a distância do ponto em relação à origem\n",
    "        '''\n",
    "        from math import sqrt\n",
    "        return sqrt(self.xpos**2.0 + self.ypos**2.0)\n",
    "        del srqt\n",
    "\n",
    "def square_area(self, xpos, ypos):\n",
    "    '''\n",
    "    Calcula a área do retângulo no plano cartesiano\n",
    "    '''\n",
    "    self.area = xpos*ypos\n",
    "    return self.area\n",
    "\n",
    "Ponto.q_area = square_area\n",
    "ponto1 = Ponto()\n",
    "ponto1.xpos = 2.0\n",
    "ponto1.ypos = 3.0\n",
    "print ponto1.q_area(ponto1.xpos,ponto1.ypos)\n",
    "print dir(ponto1)\n",
    "del Ponto.q_area\n",
    "print dir(ponto1)"
   ]
  },
  {
   "cell_type": "markdown",
   "metadata": {},
   "source": [
    "Em uma classe, o que define a forma que o comando print irá imprimir é o método $\\text{__repr__()}$. Vejamos como funciona essa audácia."
   ]
  },
  {
   "cell_type": "code",
   "execution_count": 26,
   "metadata": {
    "collapsed": false
   },
   "outputs": [
    {
     "name": "stdout",
     "output_type": "stream",
     "text": [
      "(2.000000, 3.000000)\n"
     ]
    }
   ],
   "source": [
    "class Ponto:\n",
    "    '''\n",
    "    Classe de um ponto em um plano cartesiano.\n",
    "    '''\n",
    "    \n",
    "    def __init__(self,xpos=0.0,ypos=0.0):\n",
    "        '''\n",
    "        Inicializa o ponto\n",
    "        '''\n",
    "        self.xpos = xpos\n",
    "        self.ypos = ypos\n",
    "        \n",
    "    def __repr__(self):\n",
    "        '''\n",
    "        Define a forma impressa da classe\n",
    "        '''\n",
    "        return '(%f, %f)' % (self.xpos, self.ypos)\n",
    "    \n",
    "    def odist(self):\n",
    "        '''\n",
    "        Calcula a distância do ponto em relação à origem\n",
    "        '''\n",
    "        from math import sqrt\n",
    "        return sqrt(self.xpos**2.0 + self.ypos**2.0)\n",
    "        del srqt\n",
    "\n",
    "    def square_area(self, xpos, ypos):\n",
    "        '''\n",
    "        Calcula a área do retângulo no plano cartesiano\n",
    "        '''\n",
    "        self.area = xpos*ypos\n",
    "        return self.area\n",
    "    \n",
    "ponto1 = Ponto()\n",
    "ponto1.xpos = 2.0\n",
    "ponto1.ypos = 3.0\n",
    "print ponto1"
   ]
  },
  {
   "cell_type": "markdown",
   "metadata": {},
   "source": [
    "Podemos nos deparar com a convenção de que EXISTE (mas não é existe, tenhamos fé) métodos privados a um objeto em Python. Para sinalizar isso, utiliza-se apenas dois $underscores$ em frente ao nome do método. Vamos considerar o exemplo de uma classe não-complexa que descreva números complexos."
   ]
  },
  {
   "cell_type": "code",
   "execution_count": 32,
   "metadata": {
    "collapsed": false
   },
   "outputs": [
    {
     "name": "stdout",
     "output_type": "stream",
     "text": [
      "Módulo: \n",
      "5.79559315342\n",
      "Número complexo:\n",
      "1.200000 - 5.670000i\n"
     ]
    }
   ],
   "source": [
    "class Complex:\n",
    "    '''\n",
    "    Define um número complexo\n",
    "    '''\n",
    "    \n",
    "    def __init__(self,real,im):\n",
    "        '''\n",
    "        Inicializa um número complexo\n",
    "        '''\n",
    "        self.real = real\n",
    "        self.im = im\n",
    "        self.__cmodulo()\n",
    "        \n",
    "    def __cmodulo(self):\n",
    "        '''\n",
    "        Calcula o módulo de um número complexo\n",
    "        '''\n",
    "        from math import sqrt\n",
    "        self.module = sqrt(self.real**2.0 + self.im**2.0)\n",
    "        del sqrt\n",
    "        #return self.module\n",
    "    \n",
    "    def __repr__(self):\n",
    "        '''\n",
    "        Define a representação impressa da classe\n",
    "        '''\n",
    "        if (self.im >= 0.0):\n",
    "            return '%f + %fi' % (self.real, self.im)\n",
    "        else:\n",
    "            #from math import abs\n",
    "            return '%f - %fi' % (self.real, abs(self.im))\n",
    "        \n",
    "num1 = Complex(1.2,-5.67)\n",
    "print u\"Módulo: \\n\", num1.module\n",
    "print u\"Número complexo:\\n\", num1"
   ]
  },
  {
   "cell_type": "markdown",
   "metadata": {},
   "source": [
    "## Heranças em Classes\n",
    "\n",
    "É importante falar da qualidade GOLPE que os programadores de Python usam! Vamos falar um básico sobre heranças de classes em Python, visto que é um aspecto essencial em OOP. Vamos considerar o exemplo de atletas de diferentes esportes, pois programação tbm é saúde."
   ]
  },
  {
   "cell_type": "code",
   "execution_count": 63,
   "metadata": {
    "collapsed": false
   },
   "outputs": [
    {
     "name": "stdout",
     "output_type": "stream",
     "text": [
      "Dados futebolista:\n",
      "Peso = 75.000000\n",
      "Altura = 1.650000\n",
      "Comentários:\n",
      "Melhor que Pelé\n",
      "['__doc__', '__init__', '__module__', '__repr__', 'altura', 'coment', 'explosionEstimative', 'forca', 'peso', 'vel']\n",
      "\n",
      "Dados Velocista\n",
      "Peso = 65.000000\n",
      "Altura = 1.850000\n",
      "Comentários:\n",
      "Incansável\n",
      "['__doc__', '__init__', '__module__', '__repr__', 'altura', 'coment', 'explosionEstimative', 'fadiga', 'forca', 'peso', 'resistanceEstimative', 'vel']\n",
      "\n",
      "Dados Chuck Norris\n",
      "Peso = 85.000000\n",
      "Altura = 1.800000\n",
      "Comentários:\n",
      "Mito\n",
      "['__doc__', '__init__', '__module__', '__repr__', 'altura', 'coment', 'explosionEstimative', 'fadiga', 'forca', 'peso', 'poder', 'resistanceEstimative', 'vel']\n"
     ]
    }
   ],
   "source": [
    "class Futebolista:\n",
    "    '''\n",
    "    Descreve um atleta de futebol\n",
    "    '''\n",
    "    \n",
    "    def __init__(self, peso, altura, vel, forca, coment=''):\n",
    "        '''\n",
    "        Inicializa um atleta\n",
    "        '''\n",
    "        self.peso = peso\n",
    "        self.altura = altura\n",
    "        self.vel = vel\n",
    "        self.forca = forca\n",
    "        self.coment = coment\n",
    "        \n",
    "    def explosionEstimative(self):\n",
    "        '''\n",
    "        Calcula o potencial explosivo do atleta\n",
    "        '''\n",
    "        return self.vel*self.forca/(self.peso**2.0)\n",
    "    \n",
    "    def __repr__(self):\n",
    "        '''\n",
    "        Define a representação\n",
    "        '''\n",
    "        return 'Peso = %f\\nAltura = %f\\nComentários:\\n%s' % (self.peso, self.altura,self.coment)\n",
    "    \n",
    "class Velocista(Futebolista):\n",
    "    '''\n",
    "    Descreve um velocista\n",
    "    '''\n",
    "    \n",
    "    def __init__(self, peso, altura, vel, forca, fadiga, coment=''):\n",
    "        '''\n",
    "        Inicializa os atributos do atleta\n",
    "        '''\n",
    "        self.fadiga = fadiga\n",
    "        Futebolista.__init__(self, peso, altura, vel, forca, coment)\n",
    "        \n",
    "    def resistanceEstimative(self):\n",
    "        '''\n",
    "        Calcula a resistência ao cansaço do atleta\n",
    "        '''\n",
    "        return (self.vel*(self.peso/2.0))/(2.0*self.fadiga*self.forca)\n",
    "    \n",
    "class Norris(Futebolista, Velocista):\n",
    "    '''\n",
    "    Descreve o atleta Chuck Norris\n",
    "    '''\n",
    "    \n",
    "    def __init__(self, peso, altura, vel, forca, fadiga, poder, coment=''):\n",
    "        '''\n",
    "        Inicializa Chuck Norris\n",
    "        '''\n",
    "        self.poder = poder\n",
    "        Futebolista.__init__(self, peso, altura, vel, forca, coment)\n",
    "        Velocista.__init__(self, peso, altura, vel, forca, fadiga, coment)\n",
    "    \n",
    "Maradona = Futebolista(75.0, 1.65, 20.0, 110.0, 'Melhor que Pelé')\n",
    "print \"Dados futebolista:\"\n",
    "print Maradona\n",
    "print dir(Maradona)\n",
    "\n",
    "print '\\nDados Velocista'\n",
    "Bolt = Velocista(65.0, 1.85, 30.0, 90.0, 12.0,'Incansável')\n",
    "print Bolt\n",
    "print dir(Bolt)\n",
    "\n",
    "print '\\nDados Chuck Norris'\n",
    "Chuck = Norris(85.0, 1.80, 44444.0, 9000.0, 120000.0, 9000.1,'Mito')\n",
    "print Chuck\n",
    "print dir(Chuck)"
   ]
  },
  {
   "cell_type": "code",
   "execution_count": null,
   "metadata": {
    "collapsed": true
   },
   "outputs": [],
   "source": []
  }
 ],
 "metadata": {
  "celltoolbar": "Raw Cell Format",
  "kernelspec": {
   "display_name": "Python 2",
   "language": "python",
   "name": "python2"
  },
  "language_info": {
   "codemirror_mode": {
    "name": "ipython",
    "version": 2
   },
   "file_extension": ".py",
   "mimetype": "text/x-python",
   "name": "python",
   "nbconvert_exporter": "python",
   "pygments_lexer": "ipython2",
   "version": "2.7.6"
  }
 },
 "nbformat": 4,
 "nbformat_minor": 0
}
