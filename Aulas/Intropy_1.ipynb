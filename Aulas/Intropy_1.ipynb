{
 "cells": [
  {
   "cell_type": "markdown",
   "metadata": {},
   "source": [
    "# Introdução à Linguagem Python"
   ]
  },
  {
   "cell_type": "raw",
   "metadata": {},
   "source": [
    "    Aqui farei uma introdução para que possamos nos utilizar dessa linguagem - Python 2.7. Não será um curso aprofundado e nem será abordado aspectos muito técnicos da linguagem. É interessante que o leitor já possua familiaridade com alguma linguagem de programação imperativa, de preferência C ou C++.\n",
    "    Nessa parte inicial, abordarei conceitos básicos, que são comuns em diversas linguagens de programação - principalmente imperativas."
   ]
  },
  {
   "cell_type": "markdown",
   "metadata": {},
   "source": [
    "## Variáveis e seus tipos básicos"
   ]
  },
  {
   "cell_type": "raw",
   "metadata": {},
   "source": [
    "    Python é uma linguagem de tipagem dinâmica. Isto é, o tipo de uma variável é inferido em tempo de execução.\n",
    "Vamos fazer uns exemplos práticos:"
   ]
  },
  {
   "cell_type": "code",
   "execution_count": 1,
   "metadata": {
    "collapsed": false
   },
   "outputs": [
    {
     "name": "stdout",
     "output_type": "stream",
     "text": [
      "<type 'int'> <type 'float'>\n"
     ]
    }
   ],
   "source": [
    "a = 1 # inteiro\n",
    "b = 1.0 # ponto flutuante\n",
    "\n",
    "# Verificando os tipos\n",
    "\n",
    "print type(a), type(b)"
   ]
  },
  {
   "cell_type": "raw",
   "metadata": {},
   "source": [
    "    Aqui vemos alguns conceitos importantes! Primeiro é que a atribuição é feita por meio do \"=\". Segundo que a forma como eu declaro um número - ou muitas vezes algum objeto, de forma geral - influencia no tipo que esse objeto terá. E sim, não me esqueci! A Built-In Function (BIF) type(obj) tem como entrada um objeto e retorna o tipo que esse objeto é. O token \",\" é oriundo do C (linguagem que o Python foi construído em cima) e significa, basicamente, \"faça isso, e isso... e isso\". O comando print, que também pode ser utilizada como um BIF - print(args) - é o comando de impressão em tela."
   ]
  },
  {
   "cell_type": "raw",
   "metadata": {},
   "source": [
    "    Vou apresentar agora para vocês, os diversos tipos:"
   ]
  },
  {
   "cell_type": "code",
   "execution_count": 2,
   "metadata": {
    "collapsed": false
   },
   "outputs": [
    {
     "name": "stdout",
     "output_type": "stream",
     "text": [
      "<type 'int'>\n",
      "<type 'float'>\n",
      "<type 'str'> <type 'str'>\n",
      "<type 'bool'> <type 'bool'>\n"
     ]
    }
   ],
   "source": [
    "# Inteiro\n",
    "\n",
    "a = 1\n",
    "print type(a)\n",
    "\n",
    "# Float (ponto flutuante)\n",
    "\n",
    "b = 1.0\n",
    "print type(b)\n",
    "\n",
    "# String (cadeia de caracteres)\n",
    "\n",
    "c = 'a'\n",
    "d = 'nao importa se tem 1 ou 1000000, o bonde eh o mesmo!'\n",
    "print type(c), type(d)\n",
    "\n",
    "# Booleano\n",
    "\n",
    "f = True\n",
    "d = False\n",
    "print type(f), type(d)"
   ]
  },
  {
   "cell_type": "raw",
   "metadata": {},
   "source": [
    "    Sobre o trecho de código acima, comento só acerca dos Strings. Tanto faz se tem 1 caractere ou \"n\" caracteres, o objeto de tipo string terá sempre o mesmo tratamento. Os strings serão abordados mais adiante!"
   ]
  },
  {
   "cell_type": "markdown",
   "metadata": {},
   "source": [
    "## Operadores básicos"
   ]
  },
  {
   "cell_type": "raw",
   "metadata": {},
   "source": [
    "    Agora que vimos as variáveis, vamos ver o que podemos fazer com elas!"
   ]
  },
  {
   "cell_type": "code",
   "execution_count": 3,
   "metadata": {
    "collapsed": false
   },
   "outputs": [
    {
     "name": "stdout",
     "output_type": "stream",
     "text": [
      "Soma:\n",
      "3.3\n",
      "Subtração:\n",
      "1.3\n",
      "Multiplicação 1:\n",
      "2.3\n",
      "Multiplicação 2:\n",
      "2.3\n",
      "Divisão 1:\n",
      "2.3\n",
      "Divisão 2:\n",
      "2.3\n",
      "Uma soma diferente:\n",
      "3.3\n"
     ]
    }
   ],
   "source": [
    "# Soma\n",
    "\n",
    "valor1 = 2.3\n",
    "valor2 = 1.0\n",
    "soma1 = valor1 + valor2\n",
    "print 'Soma:'\n",
    "print soma1\n",
    "\n",
    "# Subtração\n",
    "\n",
    "sub1 = valor1 - valor2\n",
    "print 'Subtração:'\n",
    "print sub1\n",
    "\n",
    "# Multiplicação\n",
    "\n",
    "mult1 = valor1*valor2\n",
    "print 'Multiplicação 1:'\n",
    "print mult1\n",
    "\n",
    "valor3 = 1 # Tipo int\n",
    "mult2 = valor1*valor3\n",
    "print 'Multiplicação 2:'\n",
    "print mult2\n",
    "\n",
    "# Divisão\n",
    "\n",
    "div1 = valor1/valor2\n",
    "print 'Divisão 1:'\n",
    "print div1\n",
    "\n",
    "div2 = valor1/valor3\n",
    "print 'Divisão 2:'\n",
    "print div2\n",
    "\n",
    "# Soma 2?\n",
    "\n",
    "soma2 = valor1 + valor3\n",
    "print 'Uma soma diferente:'\n",
    "print soma2"
   ]
  },
  {
   "cell_type": "raw",
   "metadata": {},
   "source": [
    "    Vocês devem estar pensando: \"Que absurdo!! Pra quê tanta operação repetida?!\". Jovens, isso foi feito para mostrar a vcs, que podem ter vindo de linguagens mais \"baixo nível\", que o Python - aqui na versão 2.7 - faz coerção de tipo automaticamente quando as variáveis em operação são de tipos próximos, como int e float! Em outras linguagens, talvez vcs tivessem alguns probleminhas, mas não me interessa! Hahaha"
   ]
  },
  {
   "cell_type": "raw",
   "metadata": {},
   "source": [
    "    As operações Multiplicação 2, Divisão 2 e \"Uma soma diferente\" poderiam dar resultados tipo int, mas o Python é muito gente boa e passa esses valores para float automaticamente.\n",
    "    Agora, mostrarei como faço para obter as operações que aconteceriam se não houvesse a coerção de tipo."
   ]
  },
  {
   "cell_type": "code",
   "execution_count": 4,
   "metadata": {
    "collapsed": false
   },
   "outputs": [
    {
     "name": "stdout",
     "output_type": "stream",
     "text": [
      "Divisão inteira 1:\n",
      "2.0\n",
      "Divisão inteira 2:\n",
      "3\n",
      "Módulo 1:\n",
      "0.3\n",
      "Módulo 2:\n",
      "2\n"
     ]
    }
   ],
   "source": [
    "# Divisão inteira\n",
    "\n",
    "divi1 = valor1//valor3\n",
    "print \"Divisão inteira 1:\"\n",
    "print divi1\n",
    "\n",
    "divi2 = 7//2\n",
    "print 'Divisão inteira 2:'\n",
    "print divi2\n",
    "\n",
    "# Módulo, ou resto da divisão\n",
    "\n",
    "mod1 = valor1%valor3\n",
    "print 'Módulo 1:'\n",
    "print mod1\n",
    "\n",
    "mod2 = 5//2\n",
    "print 'Módulo 2:'\n",
    "print mod2"
   ]
  },
  {
   "cell_type": "raw",
   "metadata": {},
   "source": [
    "    Bom, não tem muito o que falar, né? Só lembro que a divisão inteira nada mais é que o valor da divisão real truncado para o menor inteiro mais próximo. Ou seja, 7/2 é 3.5, mas o menor inteiro mais próximo é 3. Destaco para vcs um detalhe, em divi2 e mod2, eu só usei valores do tipo int, logo, o meu resultado também será desse tipo!"
   ]
  },
  {
   "cell_type": "markdown",
   "metadata": {},
   "source": [
    "## Controladores de Fluxo"
   ]
  },
  {
   "cell_type": "raw",
   "metadata": {},
   "source": [
    "    Às vezes precisamos controlar ou impôr condições para executar tal trecho de código. Bom, quem nunca ouviu falar dos condicionais if e else, né? Pois é, o Python velho de guerra também tem esse recurso. Eles são utilizados assim:"
   ]
  },
  {
   "cell_type": "code",
   "execution_count": 5,
   "metadata": {
    "collapsed": false
   },
   "outputs": [
    {
     "name": "stdout",
     "output_type": "stream",
     "text": [
      "O valor1 é maior ou igual que valor2\n"
     ]
    }
   ],
   "source": [
    "if (valor1 >= valor2):\n",
    "    print 'O valor1 é maior ou igual que valor2'\n",
    "else:\n",
    "    print 'valor1 é menor que o valor2' "
   ]
  },
  {
   "cell_type": "raw",
   "metadata": {},
   "source": [
    "    Vemos aqui uma estrutura geral:"
   ]
  },
  {
   "cell_type": "code",
   "execution_count": null,
   "metadata": {
    "collapsed": false
   },
   "outputs": [],
   "source": [
    "if (booleano):\n",
    "    # comandos 1\n",
    "else:\n",
    "    # comandos 2"
   ]
  },
  {
   "cell_type": "raw",
   "metadata": {},
   "source": [
    "    Além disso, podemos fazer uma série de if's aninhados, para quando tivermos várias opções!"
   ]
  },
  {
   "cell_type": "code",
   "execution_count": null,
   "metadata": {
    "collapsed": false
   },
   "outputs": [],
   "source": [
    "if (resultado_booleano):\n",
    "    # comandos 1\n",
    "elif (resultado_booleano):\n",
    "    # comandos 2\n",
    "elif (resultado_booleano):\n",
    "    # comandos 3\n",
    "else:\n",
    "    # comandos 4"
   ]
  },
  {
   "cell_type": "raw",
   "metadata": {},
   "source": [
    "O else não é obrigatório! Podemos ter um if sem ter um else, assim como um aninhamento elif (else if) sem ter um else ao final das opções. Vemos que para entrar em um if ou elif, tem que ocorrer que a expressão dentro dos parênteses do if/elif seja True. Ou seja, tem que ter um resultado final verdadeiro de uma série de operações booleanas."
   ]
  },
  {
   "cell_type": "code",
   "execution_count": 6,
   "metadata": {
    "collapsed": false
   },
   "outputs": [
    {
     "name": "stdout",
     "output_type": "stream",
     "text": [
      "O valor1 é maior que valor2\n"
     ]
    }
   ],
   "source": [
    "if (valor1 > valor2):\n",
    "    print 'O valor1 é maior que valor2'\n",
    "elif (valor1 == valor2):\n",
    "    print 'valor1 é igual ao valor2'\n",
    "elif (type(valor1) == float):\n",
    "    print 'valor1 é do tipo float'\n",
    "elif (type(valor1) == int):\n",
    "    print 'valor1 é do tipo int'\n",
    "elif (valor1 < valor2):\n",
    "    print 'valor1 é menor que o valor2'\n",
    "else:\n",
    "    print 'Tudo foi falso até aqui, inclusive a vida.'"
   ]
  },
  {
   "cell_type": "raw",
   "metadata": {},
   "source": [
    "    Aqui fica claro uma característica essencial do aninhamento de if's: Se uma das condições for verdadeira (no caso, a primeira de todas foi), será executada a sequência de comandos interna a essa condição e, após a execução, o código continuará após toda a estrutura do if. Ou seja, ele pula pra fora e segue a vida."
   ]
  },
  {
   "cell_type": "raw",
   "metadata": {},
   "source": [
    "    Existem alternativas quando queremos avaliar multiplas condições sem excluir as seguintes se uma das anteriores for verdadeira."
   ]
  },
  {
   "cell_type": "code",
   "execution_count": 7,
   "metadata": {
    "collapsed": false
   },
   "outputs": [
    {
     "name": "stdout",
     "output_type": "stream",
     "text": [
      "O valor1 é maior que valor2\n",
      "valor1 é do tipo float\n"
     ]
    }
   ],
   "source": [
    "if (valor1 > valor2):\n",
    "    print 'O valor1 é maior que valor2'\n",
    "if (valor1 == valor2):\n",
    "    print 'valor1 é igual ao valor2'\n",
    "if (type(valor1) == float):\n",
    "    print 'valor1 é do tipo float'\n",
    "if (type(valor1) == int):\n",
    "    print 'valor1 é do tipo int'\n",
    "if (valor1 < valor2):\n",
    "    print 'valor1 é menor que o valor2'"
   ]
  },
  {
   "cell_type": "raw",
   "metadata": {},
   "source": [
    "    Temos aqui uma sequência de if's, todos eles independentes entre si e sem nenhum else relacionado. Poderia ainda fazer assim, pra ficar mais interessante."
   ]
  },
  {
   "cell_type": "code",
   "execution_count": 8,
   "metadata": {
    "collapsed": false
   },
   "outputs": [
    {
     "name": "stdout",
     "output_type": "stream",
     "text": [
      "O valor1 é maior que valor2\n",
      "valor1 é do tipo float\n",
      "valor1 não é inteiro. Nunca serão!\n",
      "Não insista, valor2. Aceite que vc é menor!\n"
     ]
    }
   ],
   "source": [
    "if (valor1 > valor2):\n",
    "    print 'O valor1 é maior que valor2'\n",
    "if (valor1 == valor2):\n",
    "    print 'valor1 é igual ao valor2'\n",
    "if (type(valor1) == float):\n",
    "    print 'valor1 é do tipo float'\n",
    "if (type(valor1) == int):\n",
    "    print 'valor1 é do tipo int'\n",
    "else:\n",
    "    print 'valor1 não é inteiro. Nunca serão!'\n",
    "if (valor1 < valor2):\n",
    "    print 'valor1 é menor que o valor2'\n",
    "else:\n",
    "    print 'Não insista, valor2. Aceite que vc é menor!'"
   ]
  },
  {
   "cell_type": "raw",
   "metadata": {},
   "source": [
    "    Pelo trecho acima, vemos que o else é relacionado com o if anterior mais próximo a ele."
   ]
  },
  {
   "cell_type": "raw",
   "metadata": {},
   "source": [
    "    Para finalizar com os controladores de fluxo, vou mostrar que podemos usar uma série de expressões lógicas para serem avaliadas."
   ]
  },
  {
   "cell_type": "code",
   "execution_count": 9,
   "metadata": {
    "collapsed": false
   },
   "outputs": [
    {
     "name": "stdout",
     "output_type": "stream",
     "text": [
      "valor1/valor2 será maior que 1\n",
      "O resultado será positivo\n"
     ]
    }
   ],
   "source": [
    "if ((valor1 > valor2) and (valor1 > 0) and (valor2 > 0)):\n",
    "    print 'valor1/valor2 será maior que 1'\n",
    "elif ((valor1 < valor2) and (valor1 > 0) and (valor2 > 0)):\n",
    "    print 'valor1/valor2 será menor que 1'\n",
    "if (((valor1 < 0) and (valor2 < 0)) or ((valor1 > 0) and (valor2 > 0))):\n",
    "    print 'O resultado será positivo'\n",
    "else:\n",
    "    print 'O resultado é negativo'"
   ]
  },
  {
   "cell_type": "raw",
   "metadata": {},
   "source": [
    "    Ainda poderia ter utilizado o não-igual (!=), mas deixo aqui o registro que ele existe e pode ser utilizado!"
   ]
  },
  {
   "cell_type": "markdown",
   "metadata": {},
   "source": [
    "## Laços"
   ]
  },
  {
   "cell_type": "raw",
   "metadata": {},
   "source": [
    "    Nem preciso dizer o que são Laços ou Loops, né?! Lembrando que \"Previnir é melhor do que matar\" e não se esquecendo que \"A diferença entre o remédio e o veneno é a dosagem\" (ambos são provérbios chineses), Laços são estruturas que repetem uma mesma série de comandos várias vezes, podendo ser controlados por meio de números ou por meio de condições - booleanos: True ou False."
   ]
  },
  {
   "cell_type": "raw",
   "metadata": {},
   "source": [
    "    Em Python, Laços são uma beleza! Nada fora do habitual. Mostrarei dois aqui: For e While."
   ]
  },
  {
   "cell_type": "markdown",
   "metadata": {},
   "source": [
    "### For"
   ]
  },
  {
   "cell_type": "raw",
   "metadata": {},
   "source": [
    "    Antes de falar desse laço que considero muito, preciso falar da BIF range()."
   ]
  },
  {
   "cell_type": "code",
   "execution_count": 10,
   "metadata": {
    "collapsed": false
   },
   "outputs": [
    {
     "data": {
      "text/plain": [
       "[0, 1, 2, 3, 4, 5, 6, 7, 8, 9]"
      ]
     },
     "execution_count": 10,
     "metadata": {},
     "output_type": "execute_result"
    }
   ],
   "source": [
    "range(10)"
   ]
  },
  {
   "cell_type": "code",
   "execution_count": 11,
   "metadata": {
    "collapsed": false
   },
   "outputs": [
    {
     "data": {
      "text/plain": [
       "[0, 1, 2, 3, 4]"
      ]
     },
     "execution_count": 11,
     "metadata": {},
     "output_type": "execute_result"
    }
   ],
   "source": [
    "range(5)"
   ]
  },
  {
   "cell_type": "code",
   "execution_count": 12,
   "metadata": {
    "collapsed": false
   },
   "outputs": [
    {
     "data": {
      "text/plain": [
       "[1, 2, 3, 4, 5, 6, 7]"
      ]
     },
     "execution_count": 12,
     "metadata": {},
     "output_type": "execute_result"
    }
   ],
   "source": [
    "range(1,8)"
   ]
  },
  {
   "cell_type": "code",
   "execution_count": 13,
   "metadata": {
    "collapsed": false
   },
   "outputs": [
    {
     "data": {
      "text/plain": [
       "[2, 4, 6, 8, 10, 12, 14, 16, 18]"
      ]
     },
     "execution_count": 13,
     "metadata": {},
     "output_type": "execute_result"
    }
   ],
   "source": [
    "range(2,20,2)"
   ]
  },
  {
   "cell_type": "code",
   "execution_count": 14,
   "metadata": {
    "collapsed": false
   },
   "outputs": [
    {
     "data": {
      "text/plain": [
       "[1, 3, 5, 7, 9]"
      ]
     },
     "execution_count": 14,
     "metadata": {},
     "output_type": "execute_result"
    }
   ],
   "source": [
    "range(1,10,2)"
   ]
  },
  {
   "cell_type": "raw",
   "metadata": {},
   "source": [
    "Bom, já deu pra ver o que o range() faz, eu suponho! Cria uma LISTA (calma, mais na frente eu vou falar o que é isso) de INTEIROS. Tem como escopo a seguinte forma:"
   ]
  },
  {
   "cell_type": "code",
   "execution_count": null,
   "metadata": {
    "collapsed": false
   },
   "outputs": [],
   "source": [
    "range(inicio,fim,passo)"
   ]
  },
  {
   "cell_type": "raw",
   "metadata": {},
   "source": [
    "O início é o número inicial da Lista gerada. O fim é o número final, que nunca será alcançado, pois irá até o inteiro imediatamente que o número final, considerando o passo. E o passo é de quanto em quanto é incrementado ou decrementado!"
   ]
  },
  {
   "cell_type": "code",
   "execution_count": 15,
   "metadata": {
    "collapsed": false
   },
   "outputs": [
    {
     "data": {
      "text/plain": [
       "[20, 18, 16, 14, 12, 10, 8, 6]"
      ]
     },
     "execution_count": 15,
     "metadata": {},
     "output_type": "execute_result"
    }
   ],
   "source": [
    "range(20,5,-2)"
   ]
  },
  {
   "cell_type": "raw",
   "metadata": {},
   "source": [
    "Podemos ainda atribuir o range a alguma variável:"
   ]
  },
  {
   "cell_type": "code",
   "execution_count": 16,
   "metadata": {
    "collapsed": false
   },
   "outputs": [
    {
     "name": "stdout",
     "output_type": "stream",
     "text": [
      "[0, 1, 2, 3, 4]\n"
     ]
    }
   ],
   "source": [
    "lista1 = range(5)\n",
    "print lista1"
   ]
  },
  {
   "cell_type": "raw",
   "metadata": {},
   "source": [
    "Vale comentar que o passo é opcional e tem o valor padrão igual a 1, caso não seja informado. Se o início não for informado, começará do 0!"
   ]
  },
  {
   "cell_type": "raw",
   "metadata": {},
   "source": [
    "Ah, a variável que recebe algum range() é do tipo list, que falarei mais a frente de uma forma que preste! Por enquanto, ignorem ou acreditem!"
   ]
  },
  {
   "cell_type": "code",
   "execution_count": 17,
   "metadata": {
    "collapsed": false
   },
   "outputs": [
    {
     "data": {
      "text/plain": [
       "list"
      ]
     },
     "execution_count": 17,
     "metadata": {},
     "output_type": "execute_result"
    }
   ],
   "source": [
    "type(lista1)"
   ]
  },
  {
   "cell_type": "raw",
   "metadata": {},
   "source": [
    "E pq eu falei desse tal de range? Cara, calma, pegue um café e sente aí. Eu preciso dele para te mostrar a estrutura For. Segura essa:"
   ]
  },
  {
   "cell_type": "code",
   "execution_count": 18,
   "metadata": {
    "collapsed": false
   },
   "outputs": [
    {
     "name": "stdout",
     "output_type": "stream",
     "text": [
      "0\n",
      "1\n",
      "2\n",
      "3\n",
      "4\n",
      "5\n",
      "6\n",
      "7\n",
      "8\n",
      "9\n"
     ]
    }
   ],
   "source": [
    "for i in range(10):\n",
    "    print i"
   ]
  },
  {
   "cell_type": "raw",
   "metadata": {},
   "source": [
    "Wow, fantastic! Na estrutura \"for\" do Python, nós definimos a variável que vai ser iterada (i) e a forma que ela vai ser iterada é controlada pelo range()! Podemos dizer que o \"i\" varre o range. Além disso, podemos usar o range e o iterador de várias formas, tudo de acordo com o que é possível fazer com o range()."
   ]
  },
  {
   "cell_type": "code",
   "execution_count": null,
   "metadata": {
    "collapsed": false
   },
   "outputs": [],
   "source": [
    "# Forma geral do laço for\n",
    "\n",
    "for i in range(inicio,fim,passo):\n",
    "    # comandos"
   ]
  },
  {
   "cell_type": "raw",
   "metadata": {},
   "source": [
    "A brincadeira pode ficar ainda melhor! Podemos usar os comandos \"continue\" e o \"break\". Veja uma aplicação pra cada:"
   ]
  },
  {
   "cell_type": "code",
   "execution_count": 19,
   "metadata": {
    "collapsed": false
   },
   "outputs": [
    {
     "name": "stdout",
     "output_type": "stream",
     "text": [
      "0\n",
      "1\n",
      "2\n",
      "#NãoVaiTer3ou5\n",
      "4\n",
      "#NãoVaiTer3ou5\n",
      "6\n",
      "7\n",
      "8\n",
      "9\n"
     ]
    }
   ],
   "source": [
    "for i in range(10):\n",
    "    if ((i == 3) or (i == 5)):\n",
    "        print '#NãoVaiTer3ou5'\n",
    "        continue\n",
    "    print i"
   ]
  },
  {
   "cell_type": "code",
   "execution_count": 20,
   "metadata": {
    "collapsed": false
   },
   "outputs": [
    {
     "name": "stdout",
     "output_type": "stream",
     "text": [
      "0\n",
      "1\n",
      "2\n",
      "3\n",
      "4\n",
      "#NãoVaiTerLaço\n"
     ]
    }
   ],
   "source": [
    "for i in range(10):\n",
    "    if (i == 5):\n",
    "        print '#NãoVaiTerLaço'\n",
    "        break\n",
    "    print i"
   ]
  },
  {
   "cell_type": "markdown",
   "metadata": {},
   "source": [
    "### While"
   ]
  },
  {
   "cell_type": "raw",
   "metadata": {},
   "source": [
    "    O garoto while é mais chato. Ele impõe condições! Todo marrento! Ele é assim:"
   ]
  },
  {
   "cell_type": "code",
   "execution_count": 21,
   "metadata": {
    "collapsed": false
   },
   "outputs": [
    {
     "name": "stdout",
     "output_type": "stream",
     "text": [
      "0\n",
      "1\n",
      "2\n",
      "3\n",
      "4\n",
      "5\n",
      "6\n",
      "7\n",
      "8\n",
      "9\n"
     ]
    }
   ],
   "source": [
    "i = 0\n",
    "while (i < 10):\n",
    "    print i\n",
    "    i = i + 1 # ou i += 1"
   ]
  },
  {
   "cell_type": "raw",
   "metadata": {},
   "source": [
    "Mas ele pode ser gente boa, oferecendo a oportunidade de fazermos algo quando o seu laço acaba!"
   ]
  },
  {
   "cell_type": "code",
   "execution_count": 22,
   "metadata": {
    "collapsed": false
   },
   "outputs": [
    {
     "name": "stdout",
     "output_type": "stream",
     "text": [
      "0\n",
      "1\n",
      "2\n",
      "3\n",
      "4\n",
      "5\n",
      "6\n",
      "7\n",
      "8\n",
      "9\n",
      "ACABOUUUU! É TETRAAAA!\n"
     ]
    }
   ],
   "source": [
    "i = 0\n",
    "while (i < 10):\n",
    "    print i\n",
    "    i = i + 1 # ou i += 1\n",
    "else:\n",
    "    print 'ACABOUUUU! É TETRAAAA!'"
   ]
  },
  {
   "cell_type": "raw",
   "metadata": {},
   "source": [
    "Os comandos contidos no \"else\" são executados após a condição avaliada no laço (i < 10) se tornar falsa. Falando nisso, o laço só é executado enquanto a condição que deve ser avaliada - no caso (i < 10) - resultar em True. Lá dentro também pode ter uma série de operações booleanas, mas o que importa é o resultado, que deve ser True!"
   ]
  },
  {
   "cell_type": "raw",
   "metadata": {},
   "source": [
    "Também podemos utilizar o \"continue\" e o \"break\" nos laços While de boa, só tome cuidado para não entrar em loop infinito!"
   ]
  },
  {
   "cell_type": "code",
   "execution_count": 23,
   "metadata": {
    "collapsed": false
   },
   "outputs": [
    {
     "name": "stdout",
     "output_type": "stream",
     "text": [
      "0\n",
      "1\n",
      "2\n",
      "#NãoVaiTer3ou5\n",
      "4\n",
      "#NãoVaiTer3ou5\n",
      "6\n",
      "7\n",
      "8\n",
      "9\n",
      "ACABOUUUU! É TETRAAAA!\n"
     ]
    }
   ],
   "source": [
    "i = 0\n",
    "while (i < 10):\n",
    "    if ((i == 3) or (i == 5)):\n",
    "        print '#NãoVaiTer3ou5'\n",
    "        i += 1\n",
    "        continue\n",
    "    print i\n",
    "    i = i + 1 # ou i += 1\n",
    "else:\n",
    "    print 'ACABOUUUU! É TETRAAAA!'"
   ]
  },
  {
   "cell_type": "code",
   "execution_count": 24,
   "metadata": {
    "collapsed": false
   },
   "outputs": [
    {
     "name": "stdout",
     "output_type": "stream",
     "text": [
      "0\n",
      "1\n",
      "2\n",
      "3\n",
      "4\n",
      "#NãoVaiTerLaço\n"
     ]
    }
   ],
   "source": [
    "i = 0\n",
    "while (i < 10):\n",
    "    if (i == 5):\n",
    "        print '#NãoVaiTerLaço'\n",
    "        break\n",
    "    print i\n",
    "    i = i + 1 # ou i += 1\n",
    "else:\n",
    "    print 'ACABOUUUU! É TETRAAAA!'"
   ]
  },
  {
   "cell_type": "raw",
   "metadata": {},
   "source": [
    "Se o While for encerrado devido a um \"break\", os comandos em \"else\" não serão executados!"
   ]
  },
  {
   "cell_type": "markdown",
   "metadata": {},
   "source": [
    "## Acabou!"
   ]
  },
  {
   "cell_type": "raw",
   "metadata": {},
   "source": [
    "A parte 1. No próximo Notebook, continuarei com algumas coisas superinteressantes da linguagem Python. Qualquer coisa, é só falar, blza?!"
   ]
  }
 ],
 "metadata": {
  "kernelspec": {
   "display_name": "Python 2",
   "language": "python",
   "name": "python2"
  },
  "language_info": {
   "codemirror_mode": {
    "name": "ipython",
    "version": 2
   },
   "file_extension": ".py",
   "mimetype": "text/x-python",
   "name": "python",
   "nbconvert_exporter": "python",
   "pygments_lexer": "ipython2",
   "version": "2.7.6"
  }
 },
 "nbformat": 4,
 "nbformat_minor": 0
}
