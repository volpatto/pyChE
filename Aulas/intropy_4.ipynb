{
 "cells": [
  {
   "cell_type": "markdown",
   "metadata": {},
   "source": [
    "# Introdução à Linguagem Python - Parte 4\n",
    "\n",
    "Agora, veremos a parte emocionante da história. Iremos ver como resolver problemas físicos com Python!"
   ]
  },
  {
   "cell_type": "markdown",
   "metadata": {},
   "source": [
    "##Recursos numéricos disponíveis\n",
    "###Numpy"
   ]
  },
  {
   "cell_type": "markdown",
   "metadata": {},
   "source": [
    "É uma biblioteca que oferece diversas funções e utilidades numéricas e matemáticas, inclusive estatísticas e de álgebra linear. Para uma referência mais completa, não existe lei no Brasil que impeça vc de acessar http://docs.scipy.org/doc/numpy/reference/index.html. Recomendo!\n",
    "\n",
    "De início, começarei mostrando o recurso mais simples, porém o mais poderoso (na minha humilde opinião), do Numpy: Arrays! Mas como diriam os jovens de hoje: \"Gente, qual a necessidade disso?\". Pois bem, deixe-me mostrar!"
   ]
  },
  {
   "cell_type": "code",
   "execution_count": 1,
   "metadata": {
    "collapsed": false
   },
   "outputs": [
    {
     "name": "stdout",
     "output_type": "stream",
     "text": [
      "list1 + list2 = [2.3, 4.0, 1.2, 1.0, 1.0, 2.0]\n"
     ]
    },
    {
     "ename": "TypeError",
     "evalue": "can't multiply sequence by non-int of type 'list'",
     "output_type": "error",
     "traceback": [
      "\u001b[1;31m---------------------------------------------------------------------------\u001b[0m",
      "\u001b[1;31mTypeError\u001b[0m                                 Traceback (most recent call last)",
      "\u001b[1;32m<ipython-input-1-5d145686ec6a>\u001b[0m in \u001b[0;36m<module>\u001b[1;34m()\u001b[0m\n\u001b[0;32m      8\u001b[0m \u001b[1;33m\u001b[0m\u001b[0m\n\u001b[0;32m      9\u001b[0m \u001b[1;31m# Produto entre as listas\u001b[0m\u001b[1;33m\u001b[0m\u001b[1;33m\u001b[0m\u001b[0m\n\u001b[1;32m---> 10\u001b[1;33m \u001b[0mlist3\u001b[0m \u001b[1;33m=\u001b[0m \u001b[0mlist1\u001b[0m\u001b[1;33m*\u001b[0m\u001b[0mlist2\u001b[0m\u001b[1;33m\u001b[0m\u001b[0m\n\u001b[0m\u001b[0;32m     11\u001b[0m \u001b[1;32mprint\u001b[0m \u001b[1;34m\"list1*list2 =\"\u001b[0m\u001b[1;33m,\u001b[0m \u001b[0mlist3\u001b[0m\u001b[1;33m\u001b[0m\u001b[0m\n\u001b[0;32m     12\u001b[0m \u001b[1;33m\u001b[0m\u001b[0m\n",
      "\u001b[1;31mTypeError\u001b[0m: can't multiply sequence by non-int of type 'list'"
     ]
    }
   ],
   "source": [
    "# Listas numéricas normal em Python\n",
    "list1 = [2.3,4.0,1.2]\n",
    "list2 = [1.0,1.0,2.0]\n",
    "\n",
    "# Operação aritmética de soma das listas\n",
    "list3 = list1 + list2\n",
    "print \"list1 + list2 =\", list3\n",
    "\n",
    "# Produto entre as listas\n",
    "list3 = list1*list2\n",
    "print \"list1*list2 =\", list3\n",
    "\n",
    "# Soma de um valor constante a uma lista\n",
    "list3 = 2.0 + list1\n",
    "print \"list1 + 2 =\", list3"
   ]
  },
  {
   "cell_type": "markdown",
   "metadata": {},
   "source": [
    "Deu ruim, né? Só \"funciona\" a operação de soma, que nada mais é que uma concatenação de listas normais em Python. Pois bem, precisamos de uma ferramenta que nos permita trabalhar no $\\mathbb{R}^n$, senão o sofrimento será grande para realizar operações.\n",
    "\n",
    "Então, eis que surge nosso HERÓI: Os Arrays do Numpy! Vejamos..."
   ]
  },
  {
   "cell_type": "code",
   "execution_count": 2,
   "metadata": {
    "collapsed": false
   },
   "outputs": [
    {
     "name": "stdout",
     "output_type": "stream",
     "text": [
      "Array 1\n",
      "v1 = []\n",
      "Array 2\n",
      "v2 = [ 1.  2.  3.]\n",
      "Array 3\n",
      "v2 = [ 1.  2.  3.]\n"
     ]
    }
   ],
   "source": [
    "# Importando o numpy\n",
    "import numpy as np # Para facilitar, vamos chamar de np para quando formos utilizar as funções\n",
    "\n",
    "# Criando um array vazio\n",
    "v1 = np.array([])\n",
    "print \"Array 1\"\n",
    "print \"v1 =\", v1\n",
    "\n",
    "# Criando um array com componentes conhecidas\n",
    "v2 = np.array([1.0,2.0,3.0])\n",
    "print \"Array 2\"\n",
    "print \"v2 =\", v2\n",
    "\n",
    "# Alternativamente...\n",
    "v2 = np.array([1.0,\n",
    "               2.0,\n",
    "               3.0])\n",
    "print \"Array 3\"\n",
    "print \"v2 =\", v2"
   ]
  },
  {
   "cell_type": "markdown",
   "metadata": {},
   "source": [
    "Parece com lista, não é? Mas não é! Vamos tentar operar como fizemos com as listas!"
   ]
  },
  {
   "cell_type": "code",
   "execution_count": 3,
   "metadata": {
    "collapsed": false
   },
   "outputs": [
    {
     "name": "stdout",
     "output_type": "stream",
     "text": [
      "v1 + v2 = [ 3.  3.  0.]\n",
      "v1*v2 = [ 2.    1.25 -4.  ]\n",
      "v1 + 1 = [ 2.   3.5  3. ]\n"
     ]
    }
   ],
   "source": [
    "# Dois arrays\n",
    "v1 = np.array([1.0,\n",
    "               2.5,\n",
    "               2.0\n",
    "               ])\n",
    "v2 = np.array([2.0,\n",
    "               0.5,\n",
    "               -2.0\n",
    "               ])\n",
    "\n",
    "# Operação de soma entre vetores\n",
    "v3 = v1 + v2\n",
    "print \"v1 + v2 =\", v3\n",
    "\n",
    "# Produto (?) entre vetores\n",
    "v3 = v1*v2\n",
    "print \"v1*v2 =\", v3\n",
    "\n",
    "# Soma de uma constante a um array\n",
    "v3 = v1 + 1.0\n",
    "print \"v1 + 1 =\", v3"
   ]
  },
  {
   "cell_type": "markdown",
   "metadata": {},
   "source": [
    "Óptimo, não é? Têm o comportamento matemático esperado para vetores. Bom, além disso, podemos adicionar componentes a um array já existente, o que vai ser muito demasiadamente útil em cálculos no qual se faz necessário armazenar resultados! Vejamos como é bem simples..."
   ]
  },
  {
   "cell_type": "code",
   "execution_count": 4,
   "metadata": {
    "collapsed": false
   },
   "outputs": [
    {
     "name": "stdout",
     "output_type": "stream",
     "text": [
      "v1 = []\n",
      "v1 = [ 1.]\n"
     ]
    }
   ],
   "source": [
    "# Criando um array vazio\n",
    "v1 = np.array([])\n",
    "print \"v1 =\", v1\n",
    "\n",
    "# Adicionando um componente\n",
    "v1 = np.append(v1, 1.0)\n",
    "print \"v1 =\", v1"
   ]
  },
  {
   "cell_type": "markdown",
   "metadata": {},
   "source": [
    "Assim como também podemos tirar elementos facilmente..."
   ]
  },
  {
   "cell_type": "code",
   "execution_count": 5,
   "metadata": {
    "collapsed": false
   },
   "outputs": [
    {
     "name": "stdout",
     "output_type": "stream",
     "text": [
      "v1 = [ 1.  2.  3.  4.]\n",
      "v1 = [ 1.  2.  4.]\n",
      "v1 = [ 1.]\n",
      "v1 = [ 1.  2.  3.]\n"
     ]
    }
   ],
   "source": [
    "# Criando um array\n",
    "v1 = np.array([1.0, 2.0, 3.0, 4.0])\n",
    "print \"v1 =\", v1\n",
    "\n",
    "# Retirando o componente 3.0\n",
    "v1 = np.delete(v1, 2)\n",
    "print \"v1 =\", v1\n",
    "\n",
    "# Retirando agora o 2.0 e 4.0\n",
    "v1 = np.delete(v1, [1, 2])\n",
    "print \"v1 =\", v1\n",
    "\n",
    "# Retirando o último componente sem saber quanto há no array\n",
    "v1 = np.array([1.0, 2.0, 3.0, 4.0])\n",
    "v1 = np.delete(v1, -1)\n",
    "print \"v1 =\", v1"
   ]
  },
  {
   "cell_type": "markdown",
   "metadata": {},
   "source": [
    "Se temos vetores, temos também Matrizes! Mas como? Calma... vamos ver."
   ]
  },
  {
   "cell_type": "code",
   "execution_count": 6,
   "metadata": {
    "collapsed": false
   },
   "outputs": [
    {
     "name": "stdout",
     "output_type": "stream",
     "text": [
      "mat1 =\n",
      "[[ 1.  2.  3.]\n",
      " [ 4.  5.  6.]\n",
      " [ 7.  8.  9.]]\n",
      "mat1 =\n",
      "[[ 1.  2.  3.]\n",
      " [ 4.  5.  6.]\n",
      " [ 7.  8.  9.]]\n"
     ]
    }
   ],
   "source": [
    "# Declarando uma matriz\n",
    "mat1 = np.array([[1.0,2.0,3.0],[4.0,5.0,6.0],[7.0,8.0,9.0]])\n",
    "print 'mat1 =\\n', mat1\n",
    "\n",
    "# Alternativamente...\n",
    "mat1 = np.array([[1.0,2.0,3.0],\n",
    "                 [4.0,5.0,6.0],\n",
    "                 [7.0,8.0,9.0]])\n",
    "print 'mat1 =\\n', mat1"
   ]
  },
  {
   "cell_type": "markdown",
   "metadata": {},
   "source": [
    "Como é de se esperar, uma matriz é um Array com Arrays internos. E como podemos acessar? De forma semelhante ao que se faz com Listas. Miremos..."
   ]
  },
  {
   "cell_type": "code",
   "execution_count": 7,
   "metadata": {
    "collapsed": false
   },
   "outputs": [
    {
     "name": "stdout",
     "output_type": "stream",
     "text": [
      "v1[1] = 2.0\n",
      "mat1[1,2] = 6.0\n",
      "mat1[1,2] = 6.0\n",
      "\n",
      "Transposta de mat1\n",
      "mat2 =\n",
      "[[ 1.  4.  7.]\n",
      " [ 2.  5.  8.]\n",
      " [ 3.  6.  9.]]\n"
     ]
    }
   ],
   "source": [
    "# Declarando um vetor\n",
    "v1 = np.array([1.0,2.0,3.0,4.0])\n",
    "print 'v1[1] =', v1[1]\n",
    "\n",
    "# Declarando uma matriz\n",
    "mat1 = np.array([[1.0,2.0,3.0],\n",
    "                 [4.0,5.0,6.0],\n",
    "                 [7.0,8.0,9.0]])\n",
    "print 'mat1[1,2] =', mat1[1,2]\n",
    "\n",
    "# Alternativamente para matrizes...\n",
    "print 'mat1[1,2] =', mat1[1][2]\n",
    "\n",
    "# Extra... Matriz transposta\n",
    "mat2 = mat1.T\n",
    "print '\\nTransposta de mat1'\n",
    "print 'mat2 =\\n', mat2"
   ]
  },
  {
   "cell_type": "markdown",
   "metadata": {},
   "source": [
    "Bom... já sabemos somar (logo, sabemos subtrair também) arrays em arrays e somar uma constante, agora vamos fechar outras aritméticas básicas!"
   ]
  },
  {
   "cell_type": "code",
   "execution_count": 8,
   "metadata": {
    "collapsed": false
   },
   "outputs": [
    {
     "name": "stdout",
     "output_type": "stream",
     "text": [
      "Multiplicação por uma constante\n",
      "\n",
      "mat3 =\n",
      "[[  2.   4.   6.]\n",
      " [  8.  10.  12.]\n",
      " [ 14.  16.  18.]] \n",
      "v3 = [  2.   4.  10.]\n",
      "\n",
      "Produto interno de vetores\n",
      "v1.v2 = 6.0\n",
      "\n",
      "Produto externo (tensorial) de vetores\n",
      "v1 x v2 =\n",
      "[[  3.  -1.   1.]\n",
      " [  6.  -2.   2.]\n",
      " [ 15.  -5.   5.]]\n",
      "\n",
      "Produto matrical\n",
      "mat1.mat2 =\n",
      "[[  14.   32.   50.]\n",
      " [  32.   77.  122.]\n",
      " [  50.  122.  194.]]\n"
     ]
    }
   ],
   "source": [
    "# Declarando umas matrizes\n",
    "mat1 = np.array([[1.0,2.0,3.0],\n",
    "                 [4.0,5.0,6.0],\n",
    "                 [7.0,8.0,9.0]])\n",
    "mat2 = mat1.T\n",
    "\n",
    "# Declarando uns vetores\n",
    "v1 = np.array([1.,2.,5.])\n",
    "v2 = np.array([3.,-1.,1.])\n",
    "\n",
    "# Multiplicando objetos arrays por uma constante\n",
    "print 'Multiplicação por uma constante\\n'\n",
    "mat3 = mat1*2.0\n",
    "v3 = v1*2.0\n",
    "print 'mat3 =\\n', mat3, '\\nv3 =', v3\n",
    "\n",
    "# Produto interno entre vetores (transposta é automática)\n",
    "print '\\nProduto interno de vetores'\n",
    "v1_dot_v2 = np.dot(v1,v2)\n",
    "print 'v1.v2 =', v1_dot_v2\n",
    "\n",
    "# Produto externo (tensorial) entre vetores (transposta é automática)\n",
    "print '\\nProduto externo (tensorial) de vetores'\n",
    "v1_x_v2 = np.outer(v1,v2)\n",
    "print 'v1 x v2 =\\n', v1_x_v2\n",
    "\n",
    "# Produto matricial entre duas matrizes\n",
    "print '\\nProduto matrical'\n",
    "mat1_dot_mat2 = np.dot(mat1,mat2)\n",
    "print 'mat1.mat2 =\\n', mat1_dot_mat2"
   ]
  },
  {
   "cell_type": "markdown",
   "metadata": {},
   "source": [
    "Agora que sabemos o basicão de matrizes e vetores, podemos tentar ver como é difícil resolver sistemas lineares com o Numpy! Vamos lá...\n",
    "\n",
    "Considere o sistema linear na forma matricial:\n",
    "\n",
    "$$\n",
    "\\begin{equation}\n",
    "\\begin{bmatrix}\n",
    "1 & 2 & 1 \\\\\n",
    "1 & 0 & 1 \\\\\n",
    "2 & 5 & -3\n",
    "\\end{bmatrix}\n",
    "\\cdot \n",
    "\\begin{bmatrix}\n",
    "x_1 \\\\\n",
    "x_2 \\\\\n",
    "x_3\n",
    "\\end{bmatrix}\n",
    "= \n",
    "\\begin{bmatrix}\n",
    "1 \\\\\n",
    "1 \\\\\n",
    "2\n",
    "\\end{bmatrix}\n",
    "\\end{equation}\n",
    "$$\n",
    "\n",
    "Abaixo, segue uma complicadíssima resolução em Python!"
   ]
  },
  {
   "cell_type": "code",
   "execution_count": 9,
   "metadata": {
    "collapsed": false
   },
   "outputs": [
    {
     "name": "stdout",
     "output_type": "stream",
     "text": [
      "x = [ 1.  0.  0.]\n"
     ]
    }
   ],
   "source": [
    "# Declarando a matriz dos coeficientes\n",
    "A = np.array([[1.,2.,1.],\n",
    "              [1.,0.,1.],\n",
    "              [2.,5.,-3.]])\n",
    "\n",
    "# Declarando o vetor dos termos independentes\n",
    "b = np.array([1.,1.,2.])\n",
    "\n",
    "# Resolvendo a equação\n",
    "x = np.linalg.solve(A,b)\n",
    "print \"x =\", x"
   ]
  },
  {
   "cell_type": "markdown",
   "metadata": {},
   "source": [
    "## Scipy\n",
    "\n",
    "Com a biblioteca Scipy, temos mais uma infinidade de recursos e rotinas prontas, que podem agilizar bastante a vida da pessoa. Por exemplo, a rotina $\\texttt{fsolve()}$, que nos auxilia a calcular soluções de equações não-lineares.\n",
    "\n",
    "### fsolve\n",
    "#### Exemplo 1\n",
    "\n",
    "Encontre as raízes da equação abaixo:\n",
    "\n",
    "$$\n",
    "f(x) = x^3 + 1/x -5x^2 + 10\n",
    "$$\n",
    "\n",
    "Numericamente, quem não chuta bem, não faz o gol. Então, precisamos ter uma ideia de qual seria um bom valor de chute inicial. Além disso, precisamos confirmar a unicidade da solução no domínio que será estudado. Para tanto, vamos avaliar graficamente a função."
   ]
  },
  {
   "cell_type": "code",
   "execution_count": 10,
   "metadata": {
    "collapsed": false
   },
   "outputs": [],
   "source": [
    "import numpy as np\n",
    "import matplotlib.pyplot as plt\n",
    "\n",
    "# Definindo a função\n",
    "def f(x):\n",
    "    return x**2.0 + 1./x - 5.*x**2.0 + 10.0\n",
    "\n",
    "# Definindo a discretização do contínuo para evaluação da função\n",
    "x = np.linspace(0.001,2.,200)\n",
    "\n",
    "# Calculando os valores discretos da função\n",
    "y = f(x)\n",
    "\n",
    "# Plotando\n",
    "\n",
    "plt.figure()\n",
    "plt.plot(x,y,label='f(x)')\n",
    "plt.grid(True)\n",
    "plt.show()"
   ]
  },
  {
   "cell_type": "markdown",
   "metadata": {},
   "source": [
    "Vemos, então, que a solução está contida no intervalo $[0,2]\\in\\mathbb{R}$. Vamos escolher $x_0 = 2$ como chute inicial."
   ]
  },
  {
   "cell_type": "code",
   "execution_count": 11,
   "metadata": {
    "collapsed": false
   },
   "outputs": [
    {
     "name": "stdout",
     "output_type": "stream",
     "text": [
      "[ 1.62894851]\n"
     ]
    }
   ],
   "source": [
    "from scipy.optimize import fsolve\n",
    "ysol = fsolve(f,2.0) # Entra a Eq e o chute inicial\n",
    "print ysol"
   ]
  },
  {
   "cell_type": "markdown",
   "metadata": {},
   "source": [
    "E se quisermos resolver um sistema não-linear? Nesse caso, muda-se apenas a declaração das equações do sistema e a quantidade de chutes iniciais, sendo 1 para cada variável.\n",
    "\n",
    "Vamos resolver o seguinte sistema não-linear:\n",
    "\n",
    "$$\n",
    "\\begin{equation}\n",
    "\\left\\{\n",
    "\\begin{array}{l}\n",
    "x + \\frac{1}{2}(x - y)^3 = 1 \\\\\n",
    "\\frac{1}{2}(y-x)^3 + y = 0\n",
    "\\end{array}\\right.\n",
    "\\end{equation}\n",
    "$$"
   ]
  },
  {
   "cell_type": "code",
   "execution_count": 12,
   "metadata": {
    "collapsed": false
   },
   "outputs": [
    {
     "name": "stdout",
     "output_type": "stream",
     "text": [
      "x =  0.841163901914\n",
      "y =  0.158836098086\n"
     ]
    }
   ],
   "source": [
    "def equations(p):\n",
    "    x , y = p\n",
    "    return (x + 0.5*(x-y)**3.0 - 1.0, 0.5*(y-x)**3.0 + y)\n",
    "\n",
    "x, y = fsolve(equations, (0,0))\n",
    "print 'x = ', x\n",
    "print 'y = ', y"
   ]
  },
  {
   "cell_type": "markdown",
   "metadata": {},
   "source": [
    "Temos, portanto, a solução para o chute inicial fornecido."
   ]
  }
 ],
 "metadata": {
  "kernelspec": {
   "display_name": "Python 2",
   "language": "python",
   "name": "python2"
  },
  "language_info": {
   "codemirror_mode": {
    "name": "ipython",
    "version": 2
   },
   "file_extension": ".py",
   "mimetype": "text/x-python",
   "name": "python",
   "nbconvert_exporter": "python",
   "pygments_lexer": "ipython2",
   "version": "2.7.6"
  }
 },
 "nbformat": 4,
 "nbformat_minor": 0
}
