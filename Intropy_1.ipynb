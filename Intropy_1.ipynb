{
 "metadata": {
  "kernelspec": {
   "codemirror_mode": {
    "name": "ipython",
    "version": 2
   },
   "display_name": "IPython (Python 2)",
   "language": "python",
   "name": "python2"
  },
  "name": "",
  "signature": "sha256:23c152aa49c2af8c4a0a829df96e645bd6c0d7d232a58901c0410f67282595bc"
 },
 "nbformat": 3,
 "nbformat_minor": 0,
 "worksheets": [
  {
   "cells": [
    {
     "cell_type": "heading",
     "level": 1,
     "metadata": {},
     "source": [
      "Introdu\u00e7\u00e3o \u00e0 Linguagem Python"
     ]
    },
    {
     "cell_type": "raw",
     "metadata": {},
     "source": [
      "    Aqui farei uma introdu\u00e7\u00e3o para que possamos nos utilizar dessa linguagem - Python 2.7. N\u00e3o ser\u00e1 um curso aprofundado e nem ser\u00e1 abordado aspectos muito t\u00e9cnicos da linguagem. \u00c9 interessante que o leitor j\u00e1 possua familiaridade com alguma linguagem de programa\u00e7\u00e3o imperativa, de prefer\u00eancia C ou C++.\n",
      "    Nessa parte inicial, abordarei conceitos b\u00e1sicos, que s\u00e3o comuns em diversas linguagens de programa\u00e7\u00e3o - principalmente imperativas."
     ]
    },
    {
     "cell_type": "heading",
     "level": 2,
     "metadata": {},
     "source": [
      "Vari\u00e1veis e seus tipos b\u00e1sicos"
     ]
    },
    {
     "cell_type": "raw",
     "metadata": {},
     "source": [
      "    Python \u00e9 uma linguagem de tipagem din\u00e2mica. Isto \u00e9, o tipo de uma vari\u00e1vel \u00e9 inferido em tempo de execu\u00e7\u00e3o.\n",
      "Vamos fazer uns exemplos pr\u00e1ticos:"
     ]
    },
    {
     "cell_type": "code",
     "collapsed": false,
     "input": [
      "a = 1 # inteiro\n",
      "b = 1.0 # ponto flutuante\n",
      "\n",
      "# Verificando os tipos\n",
      "\n",
      "print type(a), type(b)"
     ],
     "language": "python",
     "metadata": {},
     "outputs": [
      {
       "output_type": "stream",
       "stream": "stdout",
       "text": [
        "<type 'int'> <type 'float'>\n"
       ]
      }
     ],
     "prompt_number": 1
    },
    {
     "cell_type": "raw",
     "metadata": {},
     "source": [
      "    Aqui vemos alguns conceitos importantes! Primeiro \u00e9 que a atribui\u00e7\u00e3o \u00e9 feita por meio do \"=\". Segundo que a forma como eu declaro um n\u00famero - ou muitas vezes algum objeto, de forma geral - influencia no tipo que esse objeto ter\u00e1. E sim, n\u00e3o me esqueci! A Built-In Function (BIF) type(obj) tem como entrada um objeto e retorna o tipo que esse objeto \u00e9. O token \",\" \u00e9 oriundo do C (linguagem que o Python foi constru\u00eddo em cima) e significa, basicamente, \"fa\u00e7a isso, e isso... e isso\". O comando print, que tamb\u00e9m pode ser utilizada como um BIF - print(args) - \u00e9 o comando de impress\u00e3o em tela."
     ]
    },
    {
     "cell_type": "raw",
     "metadata": {},
     "source": [
      "    Vou apresentar agora para voc\u00eas, os diversos tipos:"
     ]
    },
    {
     "cell_type": "code",
     "collapsed": false,
     "input": [
      "# Inteiro\n",
      "\n",
      "a = 1\n",
      "print type(a)\n",
      "\n",
      "# Float (ponto flutuante)\n",
      "\n",
      "b = 1.0\n",
      "print type(b)\n",
      "\n",
      "# String (cadeia de caracteres)\n",
      "\n",
      "c = 'a'\n",
      "d = 'nao importa se tem 1 ou 1000000, o bonde eh o mesmo!'\n",
      "print type(c), type(d)\n",
      "\n",
      "# Booleano\n",
      "\n",
      "f = True\n",
      "d = False\n",
      "print type(f), type(d)"
     ],
     "language": "python",
     "metadata": {},
     "outputs": [
      {
       "output_type": "stream",
       "stream": "stdout",
       "text": [
        "<type 'int'>\n",
        "<type 'float'>\n",
        "<type 'str'> <type 'str'>\n",
        "<type 'bool'> <type 'bool'>\n"
       ]
      }
     ],
     "prompt_number": 2
    },
    {
     "cell_type": "raw",
     "metadata": {},
     "source": [
      "    Sobre o trecho de c\u00f3digo acima, comento s\u00f3 acerca dos Strings. Tanto faz se tem 1 caractere ou \"n\" caracteres, o objeto de tipo string ter\u00e1 sempre o mesmo tratamento. Os strings ser\u00e3o abordados mais adiante!"
     ]
    },
    {
     "cell_type": "heading",
     "level": 2,
     "metadata": {},
     "source": [
      "Operadores b\u00e1sicos"
     ]
    },
    {
     "cell_type": "raw",
     "metadata": {},
     "source": [
      "    Agora que vimos as vari\u00e1veis, vamos ver o que podemos fazer com elas!"
     ]
    },
    {
     "cell_type": "code",
     "collapsed": false,
     "input": [
      "# Soma\n",
      "\n",
      "valor1 = 2.3\n",
      "valor2 = 1.0\n",
      "soma1 = valor1 + valor2\n",
      "print 'Soma:'\n",
      "print soma1\n",
      "\n",
      "# Subtra\u00e7\u00e3o\n",
      "\n",
      "sub1 = valor1 - valor2\n",
      "print 'Subtra\u00e7\u00e3o:'\n",
      "print sub1\n",
      "\n",
      "# Multiplica\u00e7\u00e3o\n",
      "\n",
      "mult1 = valor1*valor2\n",
      "print 'Multiplica\u00e7\u00e3o 1:'\n",
      "print mult1\n",
      "\n",
      "valor3 = 1 # Tipo int\n",
      "mult2 = valor1*valor3\n",
      "print 'Multiplica\u00e7\u00e3o 2:'\n",
      "print mult2\n",
      "\n",
      "# Divis\u00e3o\n",
      "\n",
      "div1 = valor1/valor2\n",
      "print 'Divis\u00e3o 1:'\n",
      "print div1\n",
      "\n",
      "div2 = valor1/valor3\n",
      "print 'Divis\u00e3o 2:'\n",
      "print div2\n",
      "\n",
      "# Soma 2?\n",
      "\n",
      "soma2 = valor1 + valor3\n",
      "print 'Uma soma diferente:'\n",
      "print soma2"
     ],
     "language": "python",
     "metadata": {},
     "outputs": [
      {
       "output_type": "stream",
       "stream": "stdout",
       "text": [
        "Soma:\n",
        "3.3\n",
        "Subtra\u00e7\u00e3o:\n",
        "1.3\n",
        "Multiplica\u00e7\u00e3o 1:\n",
        "2.3\n",
        "Multiplica\u00e7\u00e3o 2:\n",
        "2.3\n",
        "Divis\u00e3o 1:\n",
        "2.3\n",
        "Divis\u00e3o 2:\n",
        "2.3\n",
        "Uma soma diferente:\n",
        "3.3\n"
       ]
      }
     ],
     "prompt_number": 3
    },
    {
     "cell_type": "raw",
     "metadata": {},
     "source": [
      "    Voc\u00eas devem estar pensando: \"Que absurdo!! Pra qu\u00ea tanta opera\u00e7\u00e3o repetida?!\". Jovens, isso foi feito para mostrar a vcs, que podem ter vindo de linguagens mais \"baixo n\u00edvel\", que o Python - aqui na vers\u00e3o 2.7 - faz coer\u00e7\u00e3o de tipo automaticamente quando as vari\u00e1veis em opera\u00e7\u00e3o s\u00e3o de tipos pr\u00f3ximos, como int e float! Em outras linguagens, talvez vcs tivessem alguns probleminhas, mas n\u00e3o me interessa! Hahaha"
     ]
    },
    {
     "cell_type": "raw",
     "metadata": {},
     "source": [
      "    As opera\u00e7\u00f5es Multiplica\u00e7\u00e3o 2, Divis\u00e3o 2 e \"Uma soma diferente\" poderiam dar resultados tipo int, mas o Python \u00e9 muito gente boa e passa esses valores para float automaticamente.\n",
      "    Agora, mostrarei como fa\u00e7o para obter as opera\u00e7\u00f5es que aconteceriam se n\u00e3o houvesse a coer\u00e7\u00e3o de tipo."
     ]
    },
    {
     "cell_type": "code",
     "collapsed": false,
     "input": [
      "# Divis\u00e3o inteira\n",
      "\n",
      "divi1 = valor1//valor3\n",
      "print \"Divis\u00e3o inteira 1:\"\n",
      "print divi1\n",
      "\n",
      "divi2 = 7//2\n",
      "print 'Divis\u00e3o inteira 2:'\n",
      "print divi2\n",
      "\n",
      "# M\u00f3dulo, ou resto da divis\u00e3o\n",
      "\n",
      "mod1 = valor1%valor3\n",
      "print 'M\u00f3dulo 1:'\n",
      "print mod1\n",
      "\n",
      "mod2 = 5//2\n",
      "print 'M\u00f3dulo 2:'\n",
      "print mod2"
     ],
     "language": "python",
     "metadata": {},
     "outputs": [
      {
       "output_type": "stream",
       "stream": "stdout",
       "text": [
        "Divis\u00e3o inteira 1:\n",
        "2.0\n",
        "Divis\u00e3o inteira 2:\n",
        "3\n",
        "M\u00f3dulo 1:\n",
        "0.3\n",
        "M\u00f3dulo 2:\n",
        "2\n"
       ]
      }
     ],
     "prompt_number": 4
    },
    {
     "cell_type": "raw",
     "metadata": {},
     "source": [
      "    Bom, n\u00e3o tem muito o que falar, n\u00e9? S\u00f3 lembro que a divis\u00e3o inteira nada mais \u00e9 que o valor da divis\u00e3o real truncado para o menor inteiro mais pr\u00f3ximo. Ou seja, 7/2 \u00e9 3.5, mas o menor inteiro mais pr\u00f3ximo \u00e9 3. Destaco para vcs um detalhe, em divi2 e mod2, eu s\u00f3 usei valores do tipo int, logo, o meu resultado tamb\u00e9m ser\u00e1 desse tipo!"
     ]
    },
    {
     "cell_type": "heading",
     "level": 2,
     "metadata": {},
     "source": [
      "Controladores de Fluxo"
     ]
    },
    {
     "cell_type": "raw",
     "metadata": {},
     "source": [
      "    \u00c0s vezes precisamos controlar ou imp\u00f4r condi\u00e7\u00f5es para executar tal trecho de c\u00f3digo. Bom, quem nunca ouviu falar dos condicionais if e else, n\u00e9? Pois \u00e9, o Python velho de guerra tamb\u00e9m tem esse recurso. Eles s\u00e3o utilizados assim:"
     ]
    },
    {
     "cell_type": "code",
     "collapsed": false,
     "input": [
      "if (valor1 >= valor2):\n",
      "    print 'O valor1 \u00e9 maior ou igual que valor2'\n",
      "else:\n",
      "    print 'valor1 \u00e9 menor que o valor2' "
     ],
     "language": "python",
     "metadata": {},
     "outputs": [
      {
       "output_type": "stream",
       "stream": "stdout",
       "text": [
        "O valor1 \u00e9 maior ou igual que valor2\n"
       ]
      }
     ],
     "prompt_number": 5
    },
    {
     "cell_type": "raw",
     "metadata": {},
     "source": [
      "    Vemos aqui uma estrutura geral:"
     ]
    },
    {
     "cell_type": "code",
     "collapsed": false,
     "input": [
      "if (booleano):\n",
      "    # comandos 1\n",
      "else:\n",
      "    # comandos 2"
     ],
     "language": "python",
     "metadata": {},
     "outputs": []
    },
    {
     "cell_type": "raw",
     "metadata": {},
     "source": [
      "    Al\u00e9m disso, podemos fazer uma s\u00e9rie de if's aninhados, para quando tivermos v\u00e1rias op\u00e7\u00f5es!"
     ]
    },
    {
     "cell_type": "code",
     "collapsed": false,
     "input": [
      "if (resultado_booleano):\n",
      "    # comandos 1\n",
      "elif (resultado_booleano):\n",
      "    # comandos 2\n",
      "elif (resultado_booleano):\n",
      "    # comandos 3\n",
      "else:\n",
      "    # comandos 4"
     ],
     "language": "python",
     "metadata": {},
     "outputs": []
    },
    {
     "cell_type": "raw",
     "metadata": {},
     "source": [
      "O else n\u00e3o \u00e9 obrigat\u00f3rio! Podemos ter um if sem ter um else, assim como um aninhamento elif (else if) sem ter um else ao final das op\u00e7\u00f5es. Vemos que para entrar em um if ou elif, tem que ocorrer que a express\u00e3o dentro dos par\u00eanteses do if/elif seja True. Ou seja, tem que ter um resultado final verdadeiro de uma s\u00e9rie de opera\u00e7\u00f5es booleanas."
     ]
    },
    {
     "cell_type": "code",
     "collapsed": false,
     "input": [
      "if (valor1 > valor2):\n",
      "    print 'O valor1 \u00e9 maior que valor2'\n",
      "elif (valor1 == valor2):\n",
      "    print 'valor1 \u00e9 igual ao valor2'\n",
      "elif (type(valor1) == float):\n",
      "    print 'valor1 \u00e9 do tipo float'\n",
      "elif (type(valor1) == int):\n",
      "    print 'valor1 \u00e9 do tipo int'\n",
      "elif (valor1 < valor2):\n",
      "    print 'valor1 \u00e9 menor que o valor2'\n",
      "else:\n",
      "    print 'Tudo foi falso at\u00e9 aqui, inclusive a vida.'"
     ],
     "language": "python",
     "metadata": {},
     "outputs": [
      {
       "output_type": "stream",
       "stream": "stdout",
       "text": [
        "O valor1 \u00e9 maior que valor2\n"
       ]
      }
     ],
     "prompt_number": 6
    },
    {
     "cell_type": "raw",
     "metadata": {},
     "source": [
      "    Aqui fica claro uma caracter\u00edstica essencial do aninhamento de if's: Se uma das condi\u00e7\u00f5es for verdadeira (no caso, a primeira de todas foi), ser\u00e1 executada a sequ\u00eancia de comandos interna a essa condi\u00e7\u00e3o e, ap\u00f3s a execu\u00e7\u00e3o, o c\u00f3digo continuar\u00e1 ap\u00f3s toda a estrutura do if. Ou seja, ele pula pra fora e segue a vida."
     ]
    },
    {
     "cell_type": "raw",
     "metadata": {},
     "source": [
      "    Existem alternativas quando queremos avaliar multiplas condi\u00e7\u00f5es sem excluir as seguintes se uma das anteriores for verdadeira."
     ]
    },
    {
     "cell_type": "code",
     "collapsed": false,
     "input": [
      "if (valor1 > valor2):\n",
      "    print 'O valor1 \u00e9 maior que valor2'\n",
      "if (valor1 == valor2):\n",
      "    print 'valor1 \u00e9 igual ao valor2'\n",
      "if (type(valor1) == float):\n",
      "    print 'valor1 \u00e9 do tipo float'\n",
      "if (type(valor1) == int):\n",
      "    print 'valor1 \u00e9 do tipo int'\n",
      "if (valor1 < valor2):\n",
      "    print 'valor1 \u00e9 menor que o valor2'"
     ],
     "language": "python",
     "metadata": {},
     "outputs": [
      {
       "output_type": "stream",
       "stream": "stdout",
       "text": [
        "O valor1 \u00e9 maior que valor2\n",
        "valor1 \u00e9 do tipo float\n"
       ]
      }
     ],
     "prompt_number": 7
    },
    {
     "cell_type": "raw",
     "metadata": {},
     "source": [
      "    Temos aqui uma sequ\u00eancia de if's, todos eles independentes entre si e sem nenhum else relacionado. Poderia ainda fazer assim, pra ficar mais interessante."
     ]
    },
    {
     "cell_type": "code",
     "collapsed": false,
     "input": [
      "if (valor1 > valor2):\n",
      "    print 'O valor1 \u00e9 maior que valor2'\n",
      "if (valor1 == valor2):\n",
      "    print 'valor1 \u00e9 igual ao valor2'\n",
      "if (type(valor1) == float):\n",
      "    print 'valor1 \u00e9 do tipo float'\n",
      "if (type(valor1) == int):\n",
      "    print 'valor1 \u00e9 do tipo int'\n",
      "else:\n",
      "    print 'valor1 n\u00e3o \u00e9 inteiro. Nunca ser\u00e3o!'\n",
      "if (valor1 < valor2):\n",
      "    print 'valor1 \u00e9 menor que o valor2'\n",
      "else:\n",
      "    print 'N\u00e3o insista, valor2. Aceite que vc \u00e9 menor!'"
     ],
     "language": "python",
     "metadata": {},
     "outputs": [
      {
       "output_type": "stream",
       "stream": "stdout",
       "text": [
        "O valor1 \u00e9 maior que valor2\n",
        "valor1 \u00e9 do tipo float\n",
        "valor1 n\u00e3o \u00e9 inteiro. Nunca ser\u00e3o!\n",
        "N\u00e3o insista, valor2. Aceite que vc \u00e9 menor!\n"
       ]
      }
     ],
     "prompt_number": 8
    },
    {
     "cell_type": "raw",
     "metadata": {},
     "source": [
      "    Pelo trecho acima, vemos que o else \u00e9 relacionado com o if anterior mais pr\u00f3ximo a ele."
     ]
    },
    {
     "cell_type": "raw",
     "metadata": {},
     "source": [
      "    Para finalizar com os controladores de fluxo, vou mostrar que podemos usar uma s\u00e9rie de express\u00f5es l\u00f3gicas para serem avaliadas."
     ]
    },
    {
     "cell_type": "code",
     "collapsed": false,
     "input": [
      "if ((valor1 > valor2) and (valor1 > 0) and (valor2 > 0)):\n",
      "    print 'valor1/valor2 ser\u00e1 maior que 1'\n",
      "elif ((valor1 < valor2) and (valor1 > 0) and (valor2 > 0)):\n",
      "    print 'valor1/valor2 ser\u00e1 menor que 1'\n",
      "if (((valor1 < 0) and (valor2 < 0)) or ((valor1 > 0) and (valor2 > 0))):\n",
      "    print 'O resultado ser\u00e1 positivo'\n",
      "else:\n",
      "    print 'O resultado \u00e9 negativo'"
     ],
     "language": "python",
     "metadata": {},
     "outputs": [
      {
       "output_type": "stream",
       "stream": "stdout",
       "text": [
        "valor1/valor2 ser\u00e1 maior que 1\n",
        "O resultado ser\u00e1 positivo\n"
       ]
      }
     ],
     "prompt_number": 9
    },
    {
     "cell_type": "raw",
     "metadata": {},
     "source": [
      "    Ainda poderia ter utilizado o n\u00e3o-igual (!=), mas deixo aqui o registro que ele existe e pode ser utilizado!"
     ]
    },
    {
     "cell_type": "heading",
     "level": 2,
     "metadata": {},
     "source": [
      "La\u00e7os"
     ]
    },
    {
     "cell_type": "raw",
     "metadata": {},
     "source": [
      "    Nem preciso dizer o que s\u00e3o La\u00e7os ou Loops, n\u00e9?! Lembrando que \"Previnir \u00e9 melhor do que matar\" e n\u00e3o se esquecendo que \"A diferen\u00e7a entre o rem\u00e9dio e o veneno \u00e9 a dosagem\" (ambos s\u00e3o prov\u00e9rbios chineses), La\u00e7os s\u00e3o estruturas que repetem uma mesma s\u00e9rie de comandos v\u00e1rias vezes, podendo ser controlados por meio de n\u00fameros ou por meio de condi\u00e7\u00f5es - booleanos: True ou False."
     ]
    },
    {
     "cell_type": "raw",
     "metadata": {},
     "source": [
      "    Em Python, La\u00e7os s\u00e3o uma beleza! Nada fora do habitual. Mostrarei dois aqui: For e While."
     ]
    },
    {
     "cell_type": "heading",
     "level": 3,
     "metadata": {},
     "source": [
      "For"
     ]
    },
    {
     "cell_type": "raw",
     "metadata": {},
     "source": [
      "    Antes de falar desse la\u00e7o que considero muito, preciso falar da BIF range()."
     ]
    },
    {
     "cell_type": "code",
     "collapsed": false,
     "input": [
      "range(10)"
     ],
     "language": "python",
     "metadata": {},
     "outputs": [
      {
       "metadata": {},
       "output_type": "pyout",
       "prompt_number": 10,
       "text": [
        "[0, 1, 2, 3, 4, 5, 6, 7, 8, 9]"
       ]
      }
     ],
     "prompt_number": 10
    },
    {
     "cell_type": "code",
     "collapsed": false,
     "input": [
      "range(5)"
     ],
     "language": "python",
     "metadata": {},
     "outputs": [
      {
       "metadata": {},
       "output_type": "pyout",
       "prompt_number": 11,
       "text": [
        "[0, 1, 2, 3, 4]"
       ]
      }
     ],
     "prompt_number": 11
    },
    {
     "cell_type": "code",
     "collapsed": false,
     "input": [
      "range(1,8)"
     ],
     "language": "python",
     "metadata": {},
     "outputs": [
      {
       "metadata": {},
       "output_type": "pyout",
       "prompt_number": 12,
       "text": [
        "[1, 2, 3, 4, 5, 6, 7]"
       ]
      }
     ],
     "prompt_number": 12
    },
    {
     "cell_type": "code",
     "collapsed": false,
     "input": [
      "range(2,20,2)"
     ],
     "language": "python",
     "metadata": {},
     "outputs": [
      {
       "metadata": {},
       "output_type": "pyout",
       "prompt_number": 13,
       "text": [
        "[2, 4, 6, 8, 10, 12, 14, 16, 18]"
       ]
      }
     ],
     "prompt_number": 13
    },
    {
     "cell_type": "code",
     "collapsed": false,
     "input": [
      "range(1,10,2)"
     ],
     "language": "python",
     "metadata": {},
     "outputs": [
      {
       "metadata": {},
       "output_type": "pyout",
       "prompt_number": 14,
       "text": [
        "[1, 3, 5, 7, 9]"
       ]
      }
     ],
     "prompt_number": 14
    },
    {
     "cell_type": "raw",
     "metadata": {},
     "source": [
      "Bom, j\u00e1 deu pra ver o que o range() faz, eu suponho! Cria uma LISTA (calma, mais na frente eu vou falar o que \u00e9 isso) de INTEIROS. Tem como escopo a seguinte forma:"
     ]
    },
    {
     "cell_type": "code",
     "collapsed": false,
     "input": [
      "range(inicio,fim,passo)"
     ],
     "language": "python",
     "metadata": {},
     "outputs": []
    },
    {
     "cell_type": "raw",
     "metadata": {},
     "source": [
      "O in\u00edcio \u00e9 o n\u00famero inicial da Lista gerada. O fim \u00e9 o n\u00famero final, que nunca ser\u00e1 alcan\u00e7ado, pois ir\u00e1 at\u00e9 o inteiro imediatamente que o n\u00famero final, considerando o passo. E o passo \u00e9 de quanto em quanto \u00e9 incrementado ou decrementado!"
     ]
    },
    {
     "cell_type": "code",
     "collapsed": false,
     "input": [
      "range(20,5,-2)"
     ],
     "language": "python",
     "metadata": {},
     "outputs": [
      {
       "metadata": {},
       "output_type": "pyout",
       "prompt_number": 15,
       "text": [
        "[20, 18, 16, 14, 12, 10, 8, 6]"
       ]
      }
     ],
     "prompt_number": 15
    },
    {
     "cell_type": "raw",
     "metadata": {},
     "source": [
      "Podemos ainda atribuir o range a alguma vari\u00e1vel:"
     ]
    },
    {
     "cell_type": "code",
     "collapsed": false,
     "input": [
      "lista1 = range(5)\n",
      "print lista1"
     ],
     "language": "python",
     "metadata": {},
     "outputs": [
      {
       "output_type": "stream",
       "stream": "stdout",
       "text": [
        "[0, 1, 2, 3, 4]\n"
       ]
      }
     ],
     "prompt_number": 16
    },
    {
     "cell_type": "raw",
     "metadata": {},
     "source": [
      "Vale comentar que o passo \u00e9 opcional e tem o valor padr\u00e3o igual a 1, caso n\u00e3o seja informado. Se o in\u00edcio n\u00e3o for informado, come\u00e7ar\u00e1 do 0!"
     ]
    },
    {
     "cell_type": "raw",
     "metadata": {},
     "source": [
      "Ah, a vari\u00e1vel que recebe algum range() \u00e9 do tipo list, que falarei mais a frente de uma forma que preste! Por enquanto, ignorem ou acreditem!"
     ]
    },
    {
     "cell_type": "code",
     "collapsed": false,
     "input": [
      "type(lista1)"
     ],
     "language": "python",
     "metadata": {},
     "outputs": [
      {
       "metadata": {},
       "output_type": "pyout",
       "prompt_number": 17,
       "text": [
        "list"
       ]
      }
     ],
     "prompt_number": 17
    },
    {
     "cell_type": "raw",
     "metadata": {},
     "source": [
      "E pq eu falei desse tal de range? Cara, calma, pegue um caf\u00e9 e sente a\u00ed. Eu preciso dele para te mostrar a estrutura For. Segura essa:"
     ]
    },
    {
     "cell_type": "code",
     "collapsed": false,
     "input": [
      "for i in range(10):\n",
      "    print i"
     ],
     "language": "python",
     "metadata": {},
     "outputs": [
      {
       "output_type": "stream",
       "stream": "stdout",
       "text": [
        "0\n",
        "1\n",
        "2\n",
        "3\n",
        "4\n",
        "5\n",
        "6\n",
        "7\n",
        "8\n",
        "9\n"
       ]
      }
     ],
     "prompt_number": 18
    },
    {
     "cell_type": "raw",
     "metadata": {},
     "source": [
      "Wow, fantastic! Na estrutura \"for\" do Python, n\u00f3s definimos a vari\u00e1vel que vai ser iterada (i) e a forma que ela vai ser iterada \u00e9 controlada pelo range()! Podemos dizer que o \"i\" varre o range. Al\u00e9m disso, podemos usar o range e o iterador de v\u00e1rias formas, tudo de acordo com o que \u00e9 poss\u00edvel fazer com o range()."
     ]
    },
    {
     "cell_type": "code",
     "collapsed": false,
     "input": [
      "# Forma geral do la\u00e7o for\n",
      "\n",
      "for i in range(inicio,fim,passo):\n",
      "    # comandos"
     ],
     "language": "python",
     "metadata": {},
     "outputs": []
    },
    {
     "cell_type": "raw",
     "metadata": {},
     "source": [
      "A brincadeira pode ficar ainda melhor! Podemos usar os comandos \"continue\" e o \"break\". Veja uma aplica\u00e7\u00e3o pra cada:"
     ]
    },
    {
     "cell_type": "code",
     "collapsed": false,
     "input": [
      "for i in range(10):\n",
      "    if ((i == 3) or (i == 5)):\n",
      "        print '#N\u00e3oVaiTer3ou5'\n",
      "        continue\n",
      "    print i"
     ],
     "language": "python",
     "metadata": {},
     "outputs": [
      {
       "output_type": "stream",
       "stream": "stdout",
       "text": [
        "0\n",
        "1\n",
        "2\n",
        "#N\u00e3oVaiTer3ou5\n",
        "4\n",
        "#N\u00e3oVaiTer3ou5\n",
        "6\n",
        "7\n",
        "8\n",
        "9\n"
       ]
      }
     ],
     "prompt_number": 19
    },
    {
     "cell_type": "code",
     "collapsed": false,
     "input": [
      "for i in range(10):\n",
      "    if (i == 5):\n",
      "        print '#N\u00e3oVaiTerLa\u00e7o'\n",
      "        break\n",
      "    print i"
     ],
     "language": "python",
     "metadata": {},
     "outputs": [
      {
       "output_type": "stream",
       "stream": "stdout",
       "text": [
        "0\n",
        "1\n",
        "2\n",
        "3\n",
        "4\n",
        "#N\u00e3oVaiTerLa\u00e7o\n"
       ]
      }
     ],
     "prompt_number": 20
    },
    {
     "cell_type": "heading",
     "level": 3,
     "metadata": {},
     "source": [
      "While"
     ]
    },
    {
     "cell_type": "raw",
     "metadata": {},
     "source": [
      "    O garoto while \u00e9 mais chato. Ele imp\u00f5e condi\u00e7\u00f5es! Todo marrento! Ele \u00e9 assim:"
     ]
    },
    {
     "cell_type": "code",
     "collapsed": false,
     "input": [
      "i = 0\n",
      "while (i < 10):\n",
      "    print i\n",
      "    i = i + 1 # ou i += 1"
     ],
     "language": "python",
     "metadata": {},
     "outputs": [
      {
       "output_type": "stream",
       "stream": "stdout",
       "text": [
        "0\n",
        "1\n",
        "2\n",
        "3\n",
        "4\n",
        "5\n",
        "6\n",
        "7\n",
        "8\n",
        "9\n"
       ]
      }
     ],
     "prompt_number": 21
    },
    {
     "cell_type": "raw",
     "metadata": {},
     "source": [
      "Mas ele pode ser gente boa, oferecendo a oportunidade de fazermos algo quando o seu la\u00e7o acaba!"
     ]
    },
    {
     "cell_type": "code",
     "collapsed": false,
     "input": [
      "i = 0\n",
      "while (i < 10):\n",
      "    print i\n",
      "    i = i + 1 # ou i += 1\n",
      "else:\n",
      "    print 'ACABOUUUU! \u00c9 TETRAAAA!'"
     ],
     "language": "python",
     "metadata": {},
     "outputs": [
      {
       "output_type": "stream",
       "stream": "stdout",
       "text": [
        "0\n",
        "1\n",
        "2\n",
        "3\n",
        "4\n",
        "5\n",
        "6\n",
        "7\n",
        "8\n",
        "9\n",
        "ACABOUUUU! \u00c9 TETRAAAA!\n"
       ]
      }
     ],
     "prompt_number": 22
    },
    {
     "cell_type": "raw",
     "metadata": {},
     "source": [
      "Os comandos contidos no \"else\" s\u00e3o executados ap\u00f3s a condi\u00e7\u00e3o avaliada no la\u00e7o (i < 10) se tornar falsa. Falando nisso, o la\u00e7o s\u00f3 \u00e9 executado enquanto a condi\u00e7\u00e3o que deve ser avaliada - no caso (i < 10) - resultar em True. L\u00e1 dentro tamb\u00e9m pode ter uma s\u00e9rie de opera\u00e7\u00f5es booleanas, mas o que importa \u00e9 o resultado, que deve ser True!"
     ]
    },
    {
     "cell_type": "raw",
     "metadata": {},
     "source": [
      "Tamb\u00e9m podemos utilizar o \"continue\" e o \"break\" nos la\u00e7os While de boa, s\u00f3 tome cuidado para n\u00e3o entrar em loop infinito!"
     ]
    },
    {
     "cell_type": "code",
     "collapsed": false,
     "input": [
      "i = 0\n",
      "while (i < 10):\n",
      "    if ((i == 3) or (i == 5)):\n",
      "        print '#N\u00e3oVaiTer3ou5'\n",
      "        i += 1\n",
      "        continue\n",
      "    print i\n",
      "    i = i + 1 # ou i += 1\n",
      "else:\n",
      "    print 'ACABOUUUU! \u00c9 TETRAAAA!'"
     ],
     "language": "python",
     "metadata": {},
     "outputs": [
      {
       "output_type": "stream",
       "stream": "stdout",
       "text": [
        "0\n",
        "1\n",
        "2\n",
        "#N\u00e3oVaiTer3ou5\n",
        "4\n",
        "#N\u00e3oVaiTer3ou5\n",
        "6\n",
        "7\n",
        "8\n",
        "9\n",
        "ACABOUUUU! \u00c9 TETRAAAA!\n"
       ]
      }
     ],
     "prompt_number": 23
    },
    {
     "cell_type": "code",
     "collapsed": false,
     "input": [
      "i = 0\n",
      "while (i < 10):\n",
      "    if (i == 5):\n",
      "        print '#N\u00e3oVaiTerLa\u00e7o'\n",
      "        break\n",
      "    print i\n",
      "    i = i + 1 # ou i += 1\n",
      "else:\n",
      "    print 'ACABOUUUU! \u00c9 TETRAAAA!'"
     ],
     "language": "python",
     "metadata": {},
     "outputs": [
      {
       "output_type": "stream",
       "stream": "stdout",
       "text": [
        "0\n",
        "1\n",
        "2\n",
        "3\n",
        "4\n",
        "#N\u00e3oVaiTerLa\u00e7o\n"
       ]
      }
     ],
     "prompt_number": 24
    },
    {
     "cell_type": "raw",
     "metadata": {},
     "source": [
      "Se o While for encerrado devido a um \"break\", os comandos em \"else\" n\u00e3o ser\u00e3o executados!"
     ]
    },
    {
     "cell_type": "heading",
     "level": 2,
     "metadata": {},
     "source": [
      "Acabou!"
     ]
    },
    {
     "cell_type": "raw",
     "metadata": {},
     "source": [
      "A parte 1. No pr\u00f3ximo Notebook, continuarei com algumas coisas superinteressantes da linguagem Python. Qualquer coisa, \u00e9 s\u00f3 falar, blza?!"
     ]
    }
   ],
   "metadata": {}
  }
 ]
}